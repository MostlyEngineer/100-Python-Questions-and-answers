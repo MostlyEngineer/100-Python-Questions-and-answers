{
 "cells": [
  {
   "cell_type": "markdown",
   "id": "6ada88b0",
   "metadata": {},
   "source": [
    "Take two inputs from the user. One will be an integer. The other will be a float number. Then multiply them to display the output."
   ]
  },
  {
   "cell_type": "code",
   "execution_count": 1,
   "id": "36efa525",
   "metadata": {},
   "outputs": [
    {
     "name": "stdout",
     "output_type": "stream",
     "text": [
      "3\n",
      "4.3\n",
      "12.899999999999999\n"
     ]
    }
   ],
   "source": [
    "inp = int(input())\n",
    "inp_f = float(input())\n",
    "\n",
    "a = inp*inp_f\n",
    "print(a)"
   ]
  },
  {
   "cell_type": "markdown",
   "id": "84518b75",
   "metadata": {},
   "source": [
    "Take two numbers from the users. Calculate the result of second number power of the first number."
   ]
  },
  {
   "cell_type": "code",
   "execution_count": 2,
   "id": "f16bd125",
   "metadata": {},
   "outputs": [
    {
     "name": "stdout",
     "output_type": "stream",
     "text": [
      "5\n",
      "25\n"
     ]
    }
   ],
   "source": [
    "inp = int(input())\n",
    "a = inp**2\n",
    "print(a)"
   ]
  },
  {
   "cell_type": "markdown",
   "id": "c8cbb200",
   "metadata": {},
   "source": [
    "Create a random number between 0 to 10"
   ]
  },
  {
   "cell_type": "code",
   "execution_count": 3,
   "id": "b12d382b",
   "metadata": {},
   "outputs": [],
   "source": [
    "import numpy as np"
   ]
  },
  {
   "cell_type": "code",
   "execution_count": 4,
   "id": "cb06380a",
   "metadata": {},
   "outputs": [
    {
     "name": "stdout",
     "output_type": "stream",
     "text": [
      "[10 10  3  0  3  3  1  4  0  3]\n"
     ]
    }
   ],
   "source": [
    "a = np.random.randint(0,11, (10))\n",
    "print(a)"
   ]
  },
  {
   "cell_type": "markdown",
   "id": "a6f0e755",
   "metadata": {},
   "source": [
    "Find the floor division of two numbers."
   ]
  },
  {
   "cell_type": "code",
   "execution_count": 9,
   "id": "b0ed8764",
   "metadata": {},
   "outputs": [
    {
     "data": {
      "text/plain": [
       "2"
      ]
     },
     "execution_count": 9,
     "metadata": {},
     "output_type": "execute_result"
    }
   ],
   "source": [
    "a = 5\n",
    "b = 2\n",
    "c =a//b\n",
    "c"
   ]
  },
  {
   "cell_type": "code",
   "execution_count": 10,
   "id": "5f20c6b2",
   "metadata": {},
   "outputs": [],
   "source": [
    "import math"
   ]
  },
  {
   "cell_type": "code",
   "execution_count": 12,
   "id": "6172e4ae",
   "metadata": {},
   "outputs": [
    {
     "data": {
      "text/plain": [
       "5"
      ]
     },
     "execution_count": 12,
     "metadata": {},
     "output_type": "execute_result"
    }
   ],
   "source": [
    "a = math.floor(5.2)\n",
    "a"
   ]
  },
  {
   "cell_type": "markdown",
   "id": "3db527c7",
   "metadata": {},
   "source": [
    "Swap two variables.\n",
    "\n",
    "To swap two variables: the value of the first variable will become the value of the second variable. On the other hand, the value of the second variable will become the value of the first variabl"
   ]
  },
  {
   "cell_type": "code",
   "execution_count": 13,
   "id": "110c7dda",
   "metadata": {},
   "outputs": [
    {
     "name": "stdout",
     "output_type": "stream",
     "text": [
      "5 2\n"
     ]
    }
   ],
   "source": [
    "first = 2\n",
    "second = 5\n",
    "\n",
    "first = first+second\n",
    "second = first-second\n",
    "first = first-second\n",
    "print(a,b)"
   ]
  },
  {
   "cell_type": "code",
   "execution_count": 14,
   "id": "6e538331",
   "metadata": {},
   "outputs": [
    {
     "name": "stdout",
     "output_type": "stream",
     "text": [
      "5 2\n"
     ]
    }
   ],
   "source": [
    "a= 2\n",
    "b =5\n",
    "a,b = b,a\n",
    "print(a,b)"
   ]
  },
  {
   "cell_type": "code",
   "execution_count": 15,
   "id": "4d03271b",
   "metadata": {},
   "outputs": [
    {
     "name": "stdout",
     "output_type": "stream",
     "text": [
      "5 2\n"
     ]
    }
   ],
   "source": [
    "a= 2\n",
    "b =5\n",
    "\n",
    "temp = a\n",
    "a = b\n",
    "b = temp\n",
    "\n",
    "print(a,b)"
   ]
  },
  {
   "cell_type": "markdown",
   "id": "fc0ed1b8",
   "metadata": {},
   "source": [
    "Find the max number of two numbers."
   ]
  },
  {
   "cell_type": "code",
   "execution_count": 16,
   "id": "83c7e67f",
   "metadata": {},
   "outputs": [
    {
     "name": "stdout",
     "output_type": "stream",
     "text": [
      "6\n"
     ]
    }
   ],
   "source": [
    "a = 3\n",
    "b = 6\n",
    "\n",
    "if a>b:\n",
    "    print(a)\n",
    "else:\n",
    "    print(b)"
   ]
  },
  {
   "cell_type": "code",
   "execution_count": 17,
   "id": "6bf03196",
   "metadata": {},
   "outputs": [
    {
     "data": {
      "text/plain": [
       "6"
      ]
     },
     "execution_count": 17,
     "metadata": {},
     "output_type": "execute_result"
    }
   ],
   "source": [
    "c = max(a,b)\n",
    "c"
   ]
  },
  {
   "cell_type": "markdown",
   "id": "b0cf3dfe",
   "metadata": {},
   "source": [
    "Find the largest of the three numbers."
   ]
  },
  {
   "cell_type": "code",
   "execution_count": 19,
   "id": "70a7836f",
   "metadata": {},
   "outputs": [
    {
     "name": "stdout",
     "output_type": "stream",
     "text": [
      "0\n",
      "2\n",
      "9\n",
      "9\n"
     ]
    }
   ],
   "source": [
    "n1 = int(input())\n",
    "n2 = int(input())\n",
    "n3 = int(input())\n",
    "\n",
    "if n1>n2:\n",
    "    print(n1)\n",
    "elif n1<n3:\n",
    "    print(n3)\n",
    "elif n2>n3:\n",
    "    print(n2)"
   ]
  },
  {
   "cell_type": "code",
   "execution_count": 20,
   "id": "e3f7d3e6",
   "metadata": {},
   "outputs": [
    {
     "data": {
      "text/plain": [
       "9"
      ]
     },
     "execution_count": 20,
     "metadata": {},
     "output_type": "execute_result"
    }
   ],
   "source": [
    "c = max(n1,n2,n3)\n",
    "c"
   ]
  },
  {
   "cell_type": "markdown",
   "id": "c5c8a771",
   "metadata": {},
   "source": [
    "Take numbers from a user and show the average of the numbers the user entered."
   ]
  },
  {
   "cell_type": "code",
   "execution_count": 21,
   "id": "f60205a8",
   "metadata": {},
   "outputs": [
    {
     "name": "stdout",
     "output_type": "stream",
     "text": [
      "50\n",
      "44\n"
     ]
    },
    {
     "data": {
      "text/plain": [
       "47.0"
      ]
     },
     "execution_count": 21,
     "metadata": {},
     "output_type": "execute_result"
    }
   ],
   "source": [
    "n1 = int(input())\n",
    "n2 = int(input())\n",
    "\n",
    "avg = (n1+n2)/2\n",
    "avg"
   ]
  },
  {
   "cell_type": "markdown",
   "id": "802e9e8f",
   "metadata": {},
   "source": [
    "To solve this problem.\n",
    "\n",
    "First, ask the user - How many numbers you want to enter?\n",
    "\n",
    "Then, run a for-loop. Each time, take input from the user and put it in a list.\n",
    "\n",
    "Once you get all the numbers, you can send the list to the sum function. The sum function will add all the numbers and give you the total.\n",
    "\n",
    "Finally, divide the total by the number of elements the user entered.\n",
    "\n",
    "That’s it, you will get the answer.\n",
    "\n",
    "Want to try it yourself first? Go to the code editor and try it."
   ]
  },
  {
   "cell_type": "code",
   "execution_count": 32,
   "id": "1b9b1f79",
   "metadata": {},
   "outputs": [
    {
     "name": "stdout",
     "output_type": "stream",
     "text": [
      "How many numbers you want to enter?7\n",
      "enter ellements2\n",
      "enter ellements3\n",
      "enter ellements4\n",
      "enter ellements6\n",
      "enter ellements8\n",
      "enter ellements8\n",
      "enter ellements9\n",
      "5.714285714285714\n"
     ]
    }
   ],
   "source": [
    "lent = int(input('How many numbers you want to enter?'))\n",
    "l = []\n",
    "for i in range(lent):\n",
    "    element = int(input('enter ellements'))\n",
    "    l.append(element)\n",
    "    \n",
    "total = sum(l)\n",
    "avg = total/lent\n",
    "print(avg)"
   ]
  },
  {
   "cell_type": "markdown",
   "id": "46d7a29f",
   "metadata": {},
   "source": [
    "For a given number, find all the numbers smaller than the number. Numbers should be divisible by 3 and also by 5."
   ]
  },
  {
   "cell_type": "code",
   "execution_count": 42,
   "id": "2dc370f5",
   "metadata": {},
   "outputs": [],
   "source": [
    "def divisible_5_7(num):\n",
    "    l = []\n",
    "    for i in range(num):\n",
    "        if i%3==0 and i%5==0:\n",
    "            l.append(str(i))\n",
    "    print(','.join(l))"
   ]
  },
  {
   "cell_type": "code",
   "execution_count": 43,
   "id": "d0d87c9c",
   "metadata": {},
   "outputs": [
    {
     "name": "stdout",
     "output_type": "stream",
     "text": [
      "0,15,30,45\n"
     ]
    }
   ],
   "source": [
    "divisible_5_7(56)"
   ]
  },
  {
   "cell_type": "markdown",
   "id": "ab11b7ae",
   "metadata": {},
   "source": [
    "For a given number, find all the numbers smaller than the number. Numbers should be divisible by 3 or also by 5."
   ]
  },
  {
   "cell_type": "code",
   "execution_count": 46,
   "id": "2eabb7a4",
   "metadata": {},
   "outputs": [],
   "source": [
    "def divisible5or7(num):\n",
    "    l=[]\n",
    "    for i in range(num):\n",
    "        if i%3==0 or i%5==0:\n",
    "            l.append(str(i))\n",
    "    print(','.join(l))"
   ]
  },
  {
   "cell_type": "code",
   "execution_count": 47,
   "id": "2b4ac70c",
   "metadata": {},
   "outputs": [
    {
     "name": "stdout",
     "output_type": "stream",
     "text": [
      "0,3,5,6,9,10,12,15,18,20,21,24,25,27,30,33,35,36,39,40,42,45,48,50,51,54,55\n"
     ]
    }
   ],
   "source": [
    "divisible5or7(56)"
   ]
  },
  {
   "cell_type": "markdown",
   "id": "dd6ca577",
   "metadata": {},
   "source": [
    "For a given list, get the sum of each number in the list"
   ]
  },
  {
   "cell_type": "code",
   "execution_count": 50,
   "id": "c0e7e086",
   "metadata": {},
   "outputs": [
    {
     "name": "stdout",
     "output_type": "stream",
     "text": [
      "288\n"
     ]
    }
   ],
   "source": [
    "nums = [13,89,65,42,12,11,56]\n",
    "\n",
    "summation = 0\n",
    "\n",
    "for i in nums:\n",
    "    summation = summation+i\n",
    "print(summation)"
   ]
  },
  {
   "cell_type": "code",
   "execution_count": 52,
   "id": "a59bcb86",
   "metadata": {},
   "outputs": [
    {
     "data": {
      "text/plain": [
       "288"
      ]
     },
     "execution_count": 52,
     "metadata": {},
     "output_type": "execute_result"
    }
   ],
   "source": [
    "toatal = sum(nums)\n",
    "toatal"
   ]
  },
  {
   "cell_type": "markdown",
   "id": "46241dbb",
   "metadata": {},
   "source": [
    "Find the largest element of a list"
   ]
  },
  {
   "cell_type": "code",
   "execution_count": 53,
   "id": "fe65058f",
   "metadata": {},
   "outputs": [
    {
     "data": {
      "text/plain": [
       "69"
      ]
     },
     "execution_count": 53,
     "metadata": {},
     "output_type": "execute_result"
    }
   ],
   "source": [
    "nums = [41, 69, 23, 45, 19, 8]\n",
    "a = sorted(nums)\n",
    "a[-1]"
   ]
  },
  {
   "cell_type": "code",
   "execution_count": 54,
   "id": "ef843543",
   "metadata": {},
   "outputs": [
    {
     "data": {
      "text/plain": [
       "69"
      ]
     },
     "execution_count": 54,
     "metadata": {},
     "output_type": "execute_result"
    }
   ],
   "source": [
    "max(nums)"
   ]
  },
  {
   "cell_type": "code",
   "execution_count": 57,
   "id": "e7ebb42b",
   "metadata": {},
   "outputs": [
    {
     "name": "stdout",
     "output_type": "stream",
     "text": [
      "69\n"
     ]
    }
   ],
   "source": [
    "maxi = nums[0]\n",
    "for i in nums:\n",
    "    if i>maxi:\n",
    "        maxi=i\n",
    "print(maxi)"
   ]
  },
  {
   "cell_type": "markdown",
   "id": "af137623",
   "metadata": {},
   "source": [
    "Take a number as input. Then get the sum of the numbers. If the number is n. Then get"
   ]
  },
  {
   "cell_type": "code",
   "execution_count": 58,
   "id": "63234fee",
   "metadata": {},
   "outputs": [
    {
     "name": "stdout",
     "output_type": "stream",
     "text": [
      "6\n",
      "91\n"
     ]
    }
   ],
   "source": [
    "inp = int(input())\n",
    "summ = 0\n",
    "for i in range(inp+1):\n",
    "    sq = (i**2)\n",
    "    summ = summ + sq\n",
    "print(summ)"
   ]
  },
  {
   "cell_type": "markdown",
   "id": "55a1c2de",
   "metadata": {},
   "source": [
    "For a list, find the second largest number in the list."
   ]
  },
  {
   "cell_type": "code",
   "execution_count": 59,
   "id": "dc0b8e55",
   "metadata": {},
   "outputs": [
    {
     "name": "stdout",
     "output_type": "stream",
     "text": [
      "69\n"
     ]
    }
   ],
   "source": [
    "nums = [41, 69, 23, 45, 19, 8]\n",
    "macc = nums[0]\n",
    "for i in nums:\n",
    "    if i>macc:\n",
    "        macc=i\n",
    "print(macc)"
   ]
  },
  {
   "cell_type": "markdown",
   "id": "0214d059",
   "metadata": {},
   "source": [
    "For a list, find the second smallest element in the list"
   ]
  },
  {
   "cell_type": "code",
   "execution_count": 62,
   "id": "e342791c",
   "metadata": {},
   "outputs": [
    {
     "data": {
      "text/plain": [
       "45"
      ]
     },
     "execution_count": 62,
     "metadata": {},
     "output_type": "execute_result"
    }
   ],
   "source": [
    "nums = [41, 69, 23, 45, 19, 8]\n",
    "a = sorted(nums, reverse=True)\n",
    "a[1]"
   ]
  },
  {
   "cell_type": "markdown",
   "id": "2a320cb2",
   "metadata": {},
   "source": [
    "For a given string, remove all duplicate characters from that string."
   ]
  },
  {
   "cell_type": "code",
   "execution_count": 63,
   "id": "65fb0cfc",
   "metadata": {},
   "outputs": [
    {
     "name": "stdout",
     "output_type": "stream",
     "text": [
      "swapnil yande\n",
      "swapnil yde\n"
     ]
    }
   ],
   "source": [
    "inp = input()\n",
    "\n",
    "res = ''\n",
    "for ch in inp:\n",
    "    if ch not in res:\n",
    "        res +=ch\n",
    "print(res)"
   ]
  },
  {
   "cell_type": "markdown",
   "id": "2cb8d389",
   "metadata": {},
   "source": [
    "Convert miles to kilometers"
   ]
  },
  {
   "cell_type": "code",
   "execution_count": 64,
   "id": "0f7d9a1f",
   "metadata": {},
   "outputs": [],
   "source": [
    "# 1 mile = 1.609344 kilometers\n",
    "def miles_to_km(miles):\n",
    "    k = miles * 1.609334\n",
    "    return f'{miles} miles = {k} kms'"
   ]
  },
  {
   "cell_type": "code",
   "execution_count": 68,
   "id": "671e7501",
   "metadata": {},
   "outputs": [
    {
     "data": {
      "text/plain": [
       "'52 miles = 83.685368 kms'"
      ]
     },
     "execution_count": 68,
     "metadata": {},
     "output_type": "execute_result"
    }
   ],
   "source": [
    "miles_to_km(52)"
   ]
  },
  {
   "cell_type": "markdown",
   "id": "1b1f38c5",
   "metadata": {},
   "source": [
    "Convert a decimal number to binary number."
   ]
  },
  {
   "cell_type": "code",
   "execution_count": 71,
   "id": "9d49ce9d",
   "metadata": {},
   "outputs": [],
   "source": [
    "def de_to_binary(n):\n",
    "    bits=[]\n",
    "    \n",
    "    while n>0:\n",
    "        bits.append(n%2)\n",
    "        n=n//2\n",
    "    bits.reverse()\n",
    "    \n",
    "    binary = ''\n",
    "    for bit in bits:\n",
    "        binary += str(bit)\n",
    "    return binary"
   ]
  },
  {
   "cell_type": "code",
   "execution_count": 77,
   "id": "ee33bbcf",
   "metadata": {},
   "outputs": [
    {
     "data": {
      "text/plain": [
       "'1010'"
      ]
     },
     "execution_count": 77,
     "metadata": {},
     "output_type": "execute_result"
    }
   ],
   "source": [
    "de_to_binary(10)"
   ]
  },
  {
   "cell_type": "markdown",
   "id": "3a9431c3",
   "metadata": {},
   "source": [
    "Convert a decimal number to binary number using a recursive function."
   ]
  },
  {
   "cell_type": "code",
   "execution_count": 8,
   "id": "32d72a6e",
   "metadata": {},
   "outputs": [],
   "source": [
    "def bin_dec_recc(n):\n",
    "    if n>1:\n",
    "        bin_dec_recc(n//2)\n",
    "    print(n%2, end='')  "
   ]
  },
  {
   "cell_type": "code",
   "execution_count": 9,
   "id": "c0918629",
   "metadata": {},
   "outputs": [
    {
     "name": "stdout",
     "output_type": "stream",
     "text": [
      "1010"
     ]
    }
   ],
   "source": [
    "bin_dec_recc(10)"
   ]
  },
  {
   "cell_type": "markdown",
   "id": "b220b90a",
   "metadata": {},
   "source": [
    "You borrowed $5000 for 2 years with 2% interest per year. Calculate the simple interest to know how much you have to pay?"
   ]
  },
  {
   "cell_type": "code",
   "execution_count": 12,
   "id": "eb8d75e7",
   "metadata": {},
   "outputs": [
    {
     "name": "stdout",
     "output_type": "stream",
     "text": [
      "Enter Principle Amount: 5000\n",
      "Enter intrest rate: 2\n",
      "Enter the duration: 2\n",
      "simple interest 200.0\n"
     ]
    }
   ],
   "source": [
    "principle= int(input('Enter Principle Amount: '))\n",
    "interest_rate = float(input('Enter intrest rate: '))\n",
    "time = float(input('Enter the duration: '))\n",
    "simple_interest = principle * (interest_rate/100) * time\n",
    "\n",
    "print('simple interest',simple_interest)"
   ]
  },
  {
   "cell_type": "markdown",
   "id": "76013d1e",
   "metadata": {},
   "source": [
    "Take money borrowed, interest and duration as input. Then, compute the compound interest rate."
   ]
  },
  {
   "cell_type": "code",
   "execution_count": 14,
   "id": "7b3b190a",
   "metadata": {},
   "outputs": [
    {
     "name": "stdout",
     "output_type": "stream",
     "text": [
      "Enter Principle Amount: 5000\n",
      "Enter intrest rate: 2\n",
      "Enter the duration: 2\n",
      "compound intrest 10200.0\n"
     ]
    }
   ],
   "source": [
    "principle= int(input('Enter Principle Amount: '))\n",
    "interest_rate = float(input('Enter intrest rate: '))\n",
    "time = float(input('Enter the duration: '))\n",
    "\n",
    "compound_intrest = principle*(1+interest_rate/100)*time\n",
    "\n",
    "print('compound intrest',compound_intrest)"
   ]
  },
  {
   "cell_type": "markdown",
   "id": "4d32eb00",
   "metadata": {},
   "source": [
    "Calculate grade of five subjects."
   ]
  },
  {
   "cell_type": "code",
   "execution_count": 16,
   "id": "ce1272d1",
   "metadata": {},
   "outputs": [
    {
     "name": "stdout",
     "output_type": "stream",
     "text": [
      "Enter the marks of subject 1: 88\n",
      "Enter the marks of subject 2: 99\n",
      "Enter the marks of subject 3: 88\n",
      "Enter the marks of subject 4: 77\n",
      "Enter the marks of subject 5: 88\n",
      "Grade B\n"
     ]
    }
   ],
   "source": [
    "sub1 = int(input('Enter the marks of subject 1: '))\n",
    "sub2 = int(input('Enter the marks of subject 2: '))\n",
    "sub3 = int(input('Enter the marks of subject 3: '))\n",
    "sub4 = int(input('Enter the marks of subject 4: '))\n",
    "sub5 = int(input('Enter the marks of subject 5: '))\n",
    "\n",
    "avg = (sub1+sub2+sub3+sub4+sub5)/5\n",
    "\n",
    "if avg >= 90:\n",
    "    print('Grade A')\n",
    "elif avg >= 80:\n",
    "    print('Grade B')\n",
    "elif avg >= 70:\n",
    "    print('Grade C')\n",
    "elif avg >= 60:\n",
    "    print('Grade D')\n",
    "else:\n",
    "    print('Grade F')"
   ]
  },
  {
   "cell_type": "markdown",
   "id": "009da145",
   "metadata": {},
   "source": [
    "Compute gravitational force between two objects"
   ]
  },
  {
   "cell_type": "code",
   "execution_count": 18,
   "id": "74278e14",
   "metadata": {},
   "outputs": [
    {
     "name": "stdout",
     "output_type": "stream",
     "text": [
      "Enter mass of first object: 45\n",
      "Enter mass of second object: 66\n",
      "Distance between the objects: 330\n",
      "Gravitational Force =  1.8199090909090907e-12\n"
     ]
    }
   ],
   "source": [
    "G = 6.673*(10**-11)\n",
    "\n",
    "mass1 = float(input('Enter mass of first object: '))\n",
    "mass2 = float(input('Enter mass of second object: '))\n",
    "r = float(input(\"Distance between the objects: \"))\n",
    "\n",
    "force =(G*mass1*mass2)/(r**2)\n",
    "\n",
    "print('Gravitational Force = ', force)"
   ]
  },
  {
   "cell_type": "markdown",
   "id": "e4745f0f",
   "metadata": {},
   "source": [
    "Take three sides of a triangle. And then calculate the area of the triangle."
   ]
  },
  {
   "cell_type": "code",
   "execution_count": 23,
   "id": "2a6c2c62",
   "metadata": {},
   "outputs": [
    {
     "name": "stdout",
     "output_type": "stream",
     "text": [
      "Enter distance of side 1 :5\n",
      "Enter distance of side 2 :6\n",
      "Enter distance of side 3 :7\n",
      "Area of trangle is = 10.562315087138805\n"
     ]
    }
   ],
   "source": [
    "import math\n",
    "a=float(input('Enter distance of side 1 :'))\n",
    "b=float(input('Enter distance of side 2 :'))\n",
    "c=float(input('Enter distance of side 3 :'))\n",
    "s = (side1+side2+side2)/2\n",
    "\n",
    "area = math.sqrt(s*(s-a)*(s-b)*(s-c))\n",
    "\n",
    "print('Area of trangle is =',area)"
   ]
  },
  {
   "cell_type": "markdown",
   "id": "65c237e5",
   "metadata": {},
   "source": [
    "For a given number, check whether the number is a prime number or not."
   ]
  },
  {
   "cell_type": "code",
   "execution_count": 73,
   "id": "576c5021",
   "metadata": {},
   "outputs": [],
   "source": [
    "def prime(n):\n",
    "    if n>1:\n",
    "        for i in range(2,n):\n",
    "            if n%i==0:\n",
    "                print('the number is not prime')\n",
    "                break\n",
    "        else:\n",
    "            print('The number is prime number')\n",
    "    else:\n",
    "        print('the number is not prime')"
   ]
  },
  {
   "cell_type": "code",
   "execution_count": 76,
   "id": "146e0c5f",
   "metadata": {},
   "outputs": [
    {
     "name": "stdout",
     "output_type": "stream",
     "text": [
      "The number is prime number\n"
     ]
    }
   ],
   "source": [
    "prime(29)"
   ]
  },
  {
   "cell_type": "markdown",
   "id": "0ff7d53f",
   "metadata": {},
   "source": [
    "Ask the user to enter a number. Then find all the primes up to that number."
   ]
  },
  {
   "cell_type": "code",
   "execution_count": 83,
   "id": "3b0665d8",
   "metadata": {},
   "outputs": [
    {
     "name": "stdout",
     "output_type": "stream",
     "text": [
      "Enter upper limit: 100\n",
      "[2, 3, 5, 7, 11, 13, 17, 19, 23, 29, 31, 37, 41, 43, 47, 53, 59, 61, 67, 71, 73, 79, 83, 89, 97]\n"
     ]
    }
   ],
   "source": [
    "def is_prime(num):\n",
    "    for i in range(2,num):\n",
    "        if (num % i) == 0:\n",
    "            return False\n",
    "    return True\n",
    " \n",
    "def all_primes(num):\n",
    "    primes = []\n",
    "    for n in range(2,num+1):\n",
    "        if is_prime(n) is True:\n",
    "            primes.append(n)\n",
    "    return primes\n",
    " \n",
    "num = int(input(\"Enter upper limit: \"))\n",
    "primes = all_primes(num)\n",
    "print(primes)"
   ]
  },
  {
   "cell_type": "markdown",
   "id": "19643a57",
   "metadata": {},
   "source": [
    "Ask the user to enter a number. Then find all the primes factors for the number."
   ]
  },
  {
   "cell_type": "markdown",
   "id": "cb9cbe00",
   "metadata": {},
   "source": [
    "def get_prime_factors(n):\n",
    "   factors = []\n",
    "   divisor = 2\n",
    "    while n > 2:\n",
    "       if(n % divisor == 0):\n",
    "           factors.append(divisor)\n",
    "           n = n / divisor\n",
    "       else:\n",
    "           divisor = divisor + 1\n",
    "   return factors\n",
    " \n",
    "num = int (input('Enter your number: '))\n",
    "factors = get_prime_factors(num)\n",
    "print(factors)"
   ]
  },
  {
   "cell_type": "markdown",
   "id": "89d4ceda",
   "metadata": {},
   "source": [
    "Reverse a string.\n",
    "\n",
    "If the input is: Hello World.\n",
    "\n",
    "The output should be: .dlroW olleH"
   ]
  },
  {
   "cell_type": "code",
   "execution_count": 1,
   "id": "44b885b9",
   "metadata": {},
   "outputs": [
    {
     "name": "stdout",
     "output_type": "stream",
     "text": [
      "!dlroW olleH\n"
     ]
    }
   ],
   "source": [
    "st = 'Hello World!'\n",
    "print(st[::-1])"
   ]
  },
  {
   "cell_type": "code",
   "execution_count": 3,
   "id": "25082a8c",
   "metadata": {},
   "outputs": [
    {
     "name": "stdout",
     "output_type": "stream",
     "text": [
      "!dlroW olleH\n"
     ]
    }
   ],
   "source": [
    "a = ''\n",
    "for i in st:\n",
    "    a = i+a\n",
    "print(a)"
   ]
  },
  {
   "cell_type": "markdown",
   "id": "bcfaa801",
   "metadata": {},
   "source": [
    "Reverse the word in a sentence.\n",
    "\n",
    "For example, if the input string is “Hello young Programmer”, the output will be “Programmer young Hello”"
   ]
  },
  {
   "cell_type": "code",
   "execution_count": 4,
   "id": "f2ece6dc",
   "metadata": {},
   "outputs": [
    {
     "name": "stdout",
     "output_type": "stream",
     "text": [
      "Programmer young Hello\n"
     ]
    }
   ],
   "source": [
    "st = 'Hello young Programmer'\n",
    "a = st.split()\n",
    "a.reverse()\n",
    "print(' '.join(a))"
   ]
  },
  {
   "cell_type": "markdown",
   "id": "06934fed",
   "metadata": {},
   "source": [
    "Check whether the string is a palindrome."
   ]
  },
  {
   "cell_type": "code",
   "execution_count": 20,
   "id": "8af79ad3",
   "metadata": {},
   "outputs": [
    {
     "data": {
      "text/plain": [
       "True"
      ]
     },
     "execution_count": 20,
     "metadata": {},
     "output_type": "execute_result"
    }
   ],
   "source": [
    "st = 'madam'\n",
    "st == st[::-1]"
   ]
  },
  {
   "cell_type": "markdown",
   "id": "9763fc5f",
   "metadata": {},
   "source": [
    "With a given integral number n, write a program to calculate the sum of cubes."
   ]
  },
  {
   "cell_type": "code",
   "execution_count": 21,
   "id": "afd6dc6e",
   "metadata": {},
   "outputs": [],
   "source": [
    "def sum_cube(n):\n",
    "    summ = 0\n",
    "    for i in range(n+1):\n",
    "        summ = summ + n**3\n",
    "    return summ"
   ]
  },
  {
   "cell_type": "code",
   "execution_count": 23,
   "id": "181f39f4",
   "metadata": {},
   "outputs": [
    {
     "data": {
      "text/plain": [
       "320"
      ]
     },
     "execution_count": 23,
     "metadata": {},
     "output_type": "execute_result"
    }
   ],
   "source": [
    "sum_cube(4)"
   ]
  },
  {
   "cell_type": "code",
   "execution_count": null,
   "id": "04b37ad7",
   "metadata": {},
   "outputs": [],
   "source": []
  }
 ],
 "metadata": {
  "kernelspec": {
   "display_name": "Python 3 (ipykernel)",
   "language": "python",
   "name": "python3"
  },
  "language_info": {
   "codemirror_mode": {
    "name": "ipython",
    "version": 3
   },
   "file_extension": ".py",
   "mimetype": "text/x-python",
   "name": "python",
   "nbconvert_exporter": "python",
   "pygments_lexer": "ipython3",
   "version": "3.9.12"
  }
 },
 "nbformat": 4,
 "nbformat_minor": 5
}
