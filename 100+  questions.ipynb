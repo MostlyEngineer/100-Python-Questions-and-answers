{
 "cells": [
  {
   "cell_type": "markdown",
   "id": "16a68be6",
   "metadata": {},
   "source": [
    "### Question 1\n",
    "Question:\n",
    "Write a program which will find all such numbers which are divisible by 7 but are not a multiple of 5, between 2000 and 3200 (both included).\n",
    "The numbers obtained should be printed in a comma-separated sequence on a single line."
   ]
  },
  {
   "cell_type": "code",
   "execution_count": 1,
   "id": "e7cc9435",
   "metadata": {},
   "outputs": [
    {
     "name": "stdout",
     "output_type": "stream",
     "text": [
      "2002,2009,2016,2023,2037,2044,2051,2058,2072,2079,2086,2093,2107,2114,2121,2128,2142,2149,2156,2163,2177,2184,2191,2198,2212,2219,2226,2233,2247,2254,2261,2268,2282,2289,2296,2303,2317,2324,2331,2338,2352,2359,2366,2373,2387,2394,2401,2408,2422,2429,2436,2443,2457,2464,2471,2478,2492,2499,2506,2513,2527,2534,2541,2548,2562,2569,2576,2583,2597,2604,2611,2618,2632,2639,2646,2653,2667,2674,2681,2688,2702,2709,2716,2723,2737,2744,2751,2758,2772,2779,2786,2793,2807,2814,2821,2828,2842,2849,2856,2863,2877,2884,2891,2898,2912,2919,2926,2933,2947,2954,2961,2968,2982,2989,2996,3003,3017,3024,3031,3038,3052,3059,3066,3073,3087,3094,3101,3108,3122,3129,3136,3143,3157,3164,3171,3178,3192,3199\n"
     ]
    }
   ],
   "source": [
    "s = []\n",
    "for i in range(2000,3201):\n",
    "    if i%7==0 and i%5!=0:\n",
    "        s.append(str(i)) \n",
    "print(','.join(s))"
   ]
  },
  {
   "cell_type": "markdown",
   "id": "bf57b098",
   "metadata": {},
   "source": [
    "### Question 2\n",
    "Level 1\n",
    "\n",
    "Question:\n",
    "Write a program which can compute the factorial of a given numbers.\n",
    "The results should be printed in a comma-separated sequence on a single line.\n",
    "Suppose the following input is supplied to the program:\n",
    "8\n",
    "Then, the output should be:\n",
    "\n",
    "40320\n"
   ]
  },
  {
   "cell_type": "code",
   "execution_count": 77,
   "id": "5b69f4e5",
   "metadata": {},
   "outputs": [
    {
     "name": "stdout",
     "output_type": "stream",
     "text": [
      "Enter Your Number: 8\n",
      "1,2,6,24,120,720,5040,40320\n",
      "factorial of 8 is 40320\n"
     ]
    }
   ],
   "source": [
    "inp = int(input('Enter Your Number: '))\n",
    "l = []\n",
    "fact = 1\n",
    "if inp < 0 :\n",
    "    print('Factorial is not exist for negative number')\n",
    "elif inp == 0:\n",
    "    print('factorial of 0 is 1')\n",
    "else:\n",
    "    for i in range(1,inp+1):\n",
    "        fact = fact*i\n",
    "        l.append(str(fact))\n",
    "    print(','.join(l))\n",
    "    print(f'factorial of {inp} is {fact}')"
   ]
  },
  {
   "cell_type": "markdown",
   "id": "ea6e8569",
   "metadata": {},
   "source": [
    "### Question 3\n",
    "Level 1\n",
    "\n",
    "Question:\n",
    "With a given integral number n, write a program to generate a dictionary that contains (i, i*i) such that is an integral number between 1 and n (both included). and then the program should print the dictionary.\n",
    "Suppose the following input is supplied to the program:\n",
    "8\n",
    "Then, the output should be:\n",
    "{1: 1, 2: 4, 3: 9, 4: 16, 5: 25, 6: 36, 7: 49, 8: 64}"
   ]
  },
  {
   "cell_type": "code",
   "execution_count": 76,
   "id": "b552cf15",
   "metadata": {},
   "outputs": [
    {
     "name": "stdout",
     "output_type": "stream",
     "text": [
      "5\n",
      "{1: 1, 2: 4, 3: 9, 4: 16, 5: 25}\n"
     ]
    }
   ],
   "source": [
    "num =int(input())\n",
    "d = dict()\n",
    "\n",
    "for i in range(1,num+1):\n",
    "    d[i]= i*i\n",
    "print(d)"
   ]
  },
  {
   "cell_type": "markdown",
   "id": "89054a7e",
   "metadata": {},
   "source": [
    "### Question 4\n",
    "Level 1\n",
    "\n",
    "Question:\n",
    "Write a program which accepts a sequence of comma-separated numbers from console and generate a list and a tuple which contains every number.\n",
    "Suppose the following input is supplied to the program:\n",
    "34,67,55,33,12,98\n",
    "Then, the output should be:\n",
    "['34', '67', '55', '33', '12', '98']\n",
    "('34', '67', '55', '33', '12', '98')"
   ]
  },
  {
   "cell_type": "code",
   "execution_count": 21,
   "id": "034d6b3a",
   "metadata": {},
   "outputs": [
    {
     "name": "stdout",
     "output_type": "stream",
     "text": [
      "Enter numbers5,44,32,34,564,234\n",
      "['5', '44', '32', '34', '564', '234']\n",
      "('5', '44', '32', '34', '564', '234')\n"
     ]
    }
   ],
   "source": [
    "nums = (input('Enter numbers').split(','))\n",
    "\n",
    "print(list(nums))\n",
    "print(tuple(nums))"
   ]
  },
  {
   "cell_type": "markdown",
   "id": "68767c12",
   "metadata": {},
   "source": [
    "### Question 5\n",
    "Level 1\n",
    "\n",
    "Question:\n",
    "Define a class which has at least two methods:\n",
    "getString: to get a string from console input\n",
    "printString: to print the string in upper case.\n",
    "Also please include simple test function to test the class methods."
   ]
  },
  {
   "cell_type": "code",
   "execution_count": null,
   "id": "c298c8ca",
   "metadata": {},
   "outputs": [],
   "source": [
    "class Input_String():\n",
    "    def __init__(self):\n",
    "        self.s = ' '\n",
    "    def getString(self):\n",
    "        self.s = input()\n",
    "    def printString(self):\n",
    "        print(self.s.upper())"
   ]
  },
  {
   "cell_type": "code",
   "execution_count": 25,
   "id": "64ad1ccd",
   "metadata": {},
   "outputs": [
    {
     "name": "stdout",
     "output_type": "stream",
     "text": [
      "i am data scientist\n",
      "I AM DATA SCIENTIST\n"
     ]
    }
   ],
   "source": [
    "strObj = Input_String()\n",
    "strObj.getString()\n",
    "strObj.printString()"
   ]
  },
  {
   "cell_type": "markdown",
   "id": "525b099e",
   "metadata": {},
   "source": [
    "### Question 6\n",
    "Level 2\n",
    "\n",
    "Question:\n",
    "Write a program that calculates and prints the value according to the given formula:\n",
    "Q = Square root of [(2 * C * D)/H]\n",
    "Following are the fixed values of C and H:\n",
    "C is 50. H is 30.\n",
    "D is the variable whose values should be input to your program in a comma-separated sequence.\n",
    "Example\n",
    "Let us assume the following comma separated input sequence is given to the program:\n",
    "100,150,180\n",
    "The output of the program should be:\n",
    "18,22,24"
   ]
  },
  {
   "cell_type": "code",
   "execution_count": 29,
   "id": "6aec3984",
   "metadata": {},
   "outputs": [
    {
     "name": "stdout",
     "output_type": "stream",
     "text": [
      "100,150,180\n",
      "18,22,24\n"
     ]
    }
   ],
   "source": [
    "import math\n",
    "\n",
    "c = 50\n",
    "h = 30\n",
    "value = []\n",
    "items = [i for i in input().split(',')]\n",
    "\n",
    "for j in items:\n",
    "    value.append(str(int(round(math.sqrt(2*c*float(j)/h)))))\n",
    "print(','.join(value))"
   ]
  },
  {
   "cell_type": "markdown",
   "id": "672e9ef2",
   "metadata": {},
   "source": [
    "\n",
    "### Question 7\n",
    "Level 2\n",
    "\n",
    "Question:\n",
    "Write a program which takes 2 digits, X,Y as input and generates a 2-dimensional array. The element value in the i-th row and j-th column of the array should be i*j.\n",
    "Note: i=0,1.., X-1; j=0,1,¡­Y-1.\n",
    "Example\n",
    "Suppose the following inputs are given to the program:\n",
    "3,5\n",
    "Then, the output of the program should be:\n",
    "[[0, 0, 0, 0, 0], [0, 1, 2, 3, 4], [0, 2, 4, 6, 8]] "
   ]
  },
  {
   "cell_type": "code",
   "execution_count": 3,
   "id": "04cb9b96",
   "metadata": {},
   "outputs": [
    {
     "name": "stdout",
     "output_type": "stream",
     "text": [
      "3,5\n",
      "[[0, 0, 0, 0, 0], [0, 1, 2, 3, 4], [0, 2, 4, 6, 8]]\n"
     ]
    }
   ],
   "source": [
    "inp_str = input()\n",
    "diam = [int(i) for i in inp_str.split(',') ]\n",
    "\n",
    "row= diam[0]\n",
    "column=diam[1]\n",
    "\n",
    "mul_list=[[0 for col in range(column)] for row in range(row)]\n",
    "\n",
    "for r in range(row):\n",
    "    for col in range(column):\n",
    "        mul_list[r][col]=r*col\n",
    "print(mul_list)\n"
   ]
  },
  {
   "cell_type": "markdown",
   "id": "108f0e65",
   "metadata": {},
   "source": [
    "### Question 8\n",
    "Level 2\n",
    "\n",
    "Question:\n",
    "Write a program that accepts a comma separated sequence of words as input and prints the words in a comma-separated sequence after sorting them alphabetically.\n",
    "Suppose the following input is supplied to the program:\n",
    "without,hello,bag,world\n",
    "Then, the output should be:\n",
    "bag,hello,without,world\n"
   ]
  },
  {
   "cell_type": "code",
   "execution_count": 10,
   "id": "8de3e426",
   "metadata": {},
   "outputs": [
    {
     "name": "stdout",
     "output_type": "stream",
     "text": [
      "without,hello,bag,world\n",
      "bag,hello,without,world\n"
     ]
    }
   ],
   "source": [
    "items = [i for i in input().split(',')]\n",
    "items.sort()\n",
    "print(','.join(items))"
   ]
  },
  {
   "cell_type": "markdown",
   "id": "a61e3c63",
   "metadata": {},
   "source": [
    "### Question 9\n",
    "Level 2\n",
    "\n",
    "Question£º\n",
    "Write a program that accepts sequence of lines as input and prints the lines after making all characters in the sentence capitalized.\n",
    "Suppose the following input is supplied to the program:\n",
    "Hello world\n",
    "Practice makes perfect\n",
    "Then, the output should be:\n",
    "HELLO WORLD\n",
    "PRACTICE MAKES PERFECT"
   ]
  },
  {
   "cell_type": "code",
   "execution_count": 12,
   "id": "71562b55",
   "metadata": {},
   "outputs": [
    {
     "name": "stdout",
     "output_type": "stream",
     "text": [
      "Hello world Practice makes perfect\n",
      "HELLO WORLD PRACTICE MAKES PERFECT\n"
     ]
    }
   ],
   "source": [
    "item=[i.capitalize() for i in input()]\n",
    "print(''.join(item))"
   ]
  },
  {
   "cell_type": "code",
   "execution_count": 19,
   "id": "e1db7bec",
   "metadata": {},
   "outputs": [
    {
     "name": "stdout",
     "output_type": "stream",
     "text": [
      "Hello world Practice makes perfect\n",
      "HELLO WORLD PRACTICE MAKES PERFECT\n"
     ]
    }
   ],
   "source": [
    "lines = []\n",
    "s = input()\n",
    "if s:\n",
    "    lines.append(s.upper())\n",
    "print(''.join(lines))"
   ]
  },
  {
   "cell_type": "markdown",
   "id": "fa61ae50",
   "metadata": {},
   "source": [
    "### Question 10\n",
    "Level 2\n",
    "\n",
    "Question:\n",
    "Write a program that accepts a sequence of whitespace separated words as input and prints the words after removing all duplicate words and sorting them alphanumerically.\n",
    "Suppose the following input is supplied to the program:\n",
    "hello world and practice makes perfect and hello world again\n",
    "Then, the output should be:\n",
    "again and hello makes perfect practice world"
   ]
  },
  {
   "cell_type": "code",
   "execution_count": 24,
   "id": "1e0474c6",
   "metadata": {},
   "outputs": [
    {
     "name": "stdout",
     "output_type": "stream",
     "text": [
      "hello world and practice makes perfect and hello world again\n",
      "again and hello makes perfect practice world\n"
     ]
    }
   ],
   "source": [
    "sentences = input()\n",
    "\n",
    "words = [i for i in sentences.split(' ')]\n",
    "\n",
    "print(' '.join(sorted(list(set(words)))))"
   ]
  },
  {
   "cell_type": "code",
   "execution_count": null,
   "id": "9a06a601",
   "metadata": {},
   "outputs": [],
   "source": [
    "### Question 11\n",
    "Level 2\n",
    "\n",
    "Question:\n",
    "Write a program which accepts a sequence of comma separated 4 digit binary numbers as its input and then check whether they are divisible by 5 or not. The numbers that are divisible by 5 are to be printed in a comma separated sequence.\n",
    "Example:\n",
    "0100,0011,1010,1001\n",
    "Then the output should be:\n",
    "1010\n",
    "Notes: Assume the data is input by console."
   ]
  },
  {
   "cell_type": "code",
   "execution_count": 39,
   "id": "29a637ff",
   "metadata": {},
   "outputs": [
    {
     "name": "stdout",
     "output_type": "stream",
     "text": [
      "Enter 4 digit binarny number: 0100,0011,1010,1001\n",
      "Input Binary Numbers [100, 11, 1010, 1001]\n",
      "The binary number which is divisible by 5 are [100, 1010]\n"
     ]
    }
   ],
   "source": [
    "num =[]\n",
    "divisible =[]\n",
    "input_nums= [num.append(int(i)) for i in (input('Enter 4 digit binarny number: ').split(','))]\n",
    "\n",
    "for j in num:\n",
    "    if j%5==0:\n",
    "        divisible.append(j)\n",
    "print('Input Binary Numbers',num)\n",
    "print('The binary number which is divisible by 5 are',divisible)"
   ]
  },
  {
   "cell_type": "code",
   "execution_count": 35,
   "id": "9bde3df8",
   "metadata": {},
   "outputs": [
    {
     "name": "stdout",
     "output_type": "stream",
     "text": [
      "0100,0011,1010,1001\n",
      "1010\n"
     ]
    }
   ],
   "source": [
    "value=[]\n",
    "items = [x for x in input().split(',')]\n",
    "for p in items:\n",
    "    intp =int(p,2)\n",
    "    if not intp%5:\n",
    "        value.append(p)\n",
    "print(','.join(value))"
   ]
  },
  {
   "cell_type": "markdown",
   "id": "8c0a4024",
   "metadata": {},
   "source": [
    "### Question 12\n",
    "Level 2\n",
    "\n",
    "Question:\n",
    "Write a program, which will find all such numbers between 1000 and 3000 (both included) such that each digit of the number is an even number.\n",
    "The numbers obtained should be printed in a comma-separated sequence on a single line."
   ]
  },
  {
   "cell_type": "code",
   "execution_count": 42,
   "id": "90c24fef",
   "metadata": {},
   "outputs": [
    {
     "name": "stdout",
     "output_type": "stream",
     "text": [
      "2000,2002,2004,2006,2008,2020,2022,2024,2026,2028,2040,2042,2044,2046,2048,2060,2062,2064,2066,2068,2080,2082,2084,2086,2088,2200,2202,2204,2206,2208,2220,2222,2224,2226,2228,2240,2242,2244,2246,2248,2260,2262,2264,2266,2268,2280,2282,2284,2286,2288,2400,2402,2404,2406,2408,2420,2422,2424,2426,2428,2440,2442,2444,2446,2448,2460,2462,2464,2466,2468,2480,2482,2484,2486,2488,2600,2602,2604,2606,2608,2620,2622,2624,2626,2628,2640,2642,2644,2646,2648,2660,2662,2664,2666,2668,2680,2682,2684,2686,2688,2800,2802,2804,2806,2808,2820,2822,2824,2826,2828,2840,2842,2844,2846,2848,2860,2862,2864,2866,2868,2880,2882,2884,2886,2888\n"
     ]
    }
   ],
   "source": [
    "nums_div_by_2 = []\n",
    "\n",
    "for i in range(1000, 3001):\n",
    "    s = str(i)\n",
    "    if (int(s[0])%2==0) and (int(s[1])%2==0) and (int(s[2])%2==0) and (int(s[3])%2==0):\n",
    "        nums_div_by_2.append(s)\n",
    "print(','.join(nums_div_by_2))"
   ]
  },
  {
   "cell_type": "markdown",
   "id": "c0fc3f40",
   "metadata": {},
   "source": [
    "### Question 13\n",
    "Level 2\n",
    "\n",
    "Question:\n",
    "Write a program that accepts a sentence and calculate the number of letters and digits.\n",
    "Suppose the following input is supplied to the program:\n",
    "hello world! 123\n",
    "Then, the output should be:\n",
    "LETTERS 10\n",
    "DIGITS 3"
   ]
  },
  {
   "cell_type": "code",
   "execution_count": 59,
   "id": "671f0408",
   "metadata": {},
   "outputs": [
    {
     "name": "stdout",
     "output_type": "stream",
     "text": [
      "Letters 10 Digit 3\n",
      "Letters 12\n",
      "Digit 3\n"
     ]
    }
   ],
   "source": [
    "d = {'Letter':0, 'Digits':0}\n",
    "st = input()\n",
    "\n",
    "for i in st:\n",
    "    if i.isdigit():\n",
    "        d['Digits']+=1\n",
    "    elif i.isalpha():\n",
    "        d['Letter']+=1\n",
    "    else:\n",
    "        pass\n",
    "print('Letters',d['Letter'])\n",
    "print('Digit',d['Digits'])"
   ]
  },
  {
   "cell_type": "code",
   "execution_count": null,
   "id": "c1325857",
   "metadata": {},
   "outputs": [],
   "source": [
    "Question:\n",
    "Write a program that accepts a sentence and calculate the number of upper case letters and lower case letters.\n",
    "Suppose the following input is supplied to the program:\n",
    "Hello world!\n",
    "Then, the output should be:\n",
    "UPPER CASE 1\n",
    "LOWER CASE 9"
   ]
  },
  {
   "cell_type": "code",
   "execution_count": 57,
   "id": "61320ef9",
   "metadata": {},
   "outputs": [
    {
     "name": "stdout",
     "output_type": "stream",
     "text": [
      "Hello world!\n",
      "UPPER 1\n",
      "LOWER 9\n"
     ]
    }
   ],
   "source": [
    "d ={'Upper Case':0, 'Lower Case':0}\n",
    "inp = input()\n",
    "\n",
    "for i in inp:\n",
    "    if i.isupper():\n",
    "        d['Upper Case']+=1\n",
    "    elif i.islower():\n",
    "        d['Lower Case']+=1\n",
    "    else:\n",
    "        pass\n",
    "print('UPPER',d['Upper Case'])\n",
    "print('LOWER',d['Lower Case'])"
   ]
  },
  {
   "cell_type": "code",
   "execution_count": null,
   "id": "ba5913dd",
   "metadata": {},
   "outputs": [],
   "source": [
    "### Question 15\n",
    "Level 2\n",
    "\n",
    "Question:\n",
    "Write a program that computes the value of a+aa+aaa+aaaa with a given digit as the value of a.\n",
    "Suppose the following input is supplied to the program:\n",
    "9\n",
    "Then, the output should be:\n",
    "11106"
   ]
  },
  {
   "cell_type": "code",
   "execution_count": 72,
   "id": "13f96b93",
   "metadata": {},
   "outputs": [],
   "source": [
    "def sumall(num):\n",
    "    n1 = num\n",
    "    n2 = num*num\n",
    "    n3 = num*num*num\n",
    "    n4 = num*num*num*num\n",
    "    \n",
    "    suma = n1+n2+n3+n4\n",
    "    \n",
    "    return suma"
   ]
  },
  {
   "cell_type": "code",
   "execution_count": 73,
   "id": "fb21f8a2",
   "metadata": {},
   "outputs": [
    {
     "data": {
      "text/plain": [
       "7380"
      ]
     },
     "execution_count": 73,
     "metadata": {},
     "output_type": "execute_result"
    }
   ],
   "source": [
    "sumall(9)"
   ]
  },
  {
   "cell_type": "code",
   "execution_count": 69,
   "id": "4c01a1fb",
   "metadata": {},
   "outputs": [
    {
     "name": "stdout",
     "output_type": "stream",
     "text": [
      "9\n",
      "11106\n"
     ]
    }
   ],
   "source": [
    "a = input()\n",
    "n1 = int( \"%s\" % a )\n",
    "n2 = int( \"%s%s\" % (a,a) )\n",
    "n3 = int( \"%s%s%s\" % (a,a,a) )\n",
    "n4 = int( \"%s%s%s%s\" % (a,a,a,a) )\n",
    "print(n1+n2+n3+n4)"
   ]
  },
  {
   "cell_type": "code",
   "execution_count": null,
   "id": "56644404",
   "metadata": {},
   "outputs": [],
   "source": [
    "### Question 16\n",
    "Level 2\n",
    "\n",
    "Question:\n",
    "Use a list comprehension to square each odd number in a list. The list is input by a sequence of comma-separated numbers.\n",
    "Suppose the following input is supplied to the program:\n",
    "1,2,3,4,5,6,7,8,9\n",
    "Then, the output should be:\n",
    "1,3,5,7,9"
   ]
  },
  {
   "cell_type": "code",
   "execution_count": 2,
   "id": "d2dc70c1",
   "metadata": {},
   "outputs": [
    {
     "name": "stdout",
     "output_type": "stream",
     "text": [
      "Enter number: 1,2,3,4,5,6,7,8,9\n",
      "[1, 9, 25, 49, 81]\n"
     ]
    }
   ],
   "source": [
    "num=[]\n",
    "\n",
    "input_nums= [num.append(int(i)) for i in (input('Enter number: ').split(','))]\n",
    "\n",
    "a = [i**2 for i in num if i%2!=0 ]\n",
    "print(a)"
   ]
  },
  {
   "cell_type": "code",
   "execution_count": null,
   "id": "df441fa0",
   "metadata": {},
   "outputs": [],
   "source": [
    "### Question 17\n",
    "Level 2\n",
    "\n",
    "Question:\n",
    "Write a program that computes the net amount of a bank account based a transaction log from console input. The transaction log format is shown as following:\n",
    "D 100\n",
    "W 200\n",
    "\n",
    "D means deposit while W means withdrawal.\n",
    "Suppose the following input is supplied to the program:\n",
    "D 300\n",
    "D 300\n",
    "W 200\n",
    "D 100\n",
    "Then, the output should be:\n",
    "500"
   ]
  },
  {
   "cell_type": "code",
   "execution_count": 12,
   "id": "9c70b81b",
   "metadata": {},
   "outputs": [
    {
     "name": "stdout",
     "output_type": "stream",
     "text": [
      "D 200\n",
      "W 100\n",
      "\n",
      "100\n"
     ]
    }
   ],
   "source": [
    "netAmt = 0\n",
    "while True:\n",
    "    s= input()\n",
    "    if not s:\n",
    "        break\n",
    "    values = s.split(' ')\n",
    "\n",
    "    operation = values[0]\n",
    "    amount = int(values[1])\n",
    "\n",
    "    if operation=='D':\n",
    "        netAmt+=amount\n",
    "    elif operation=='W':\n",
    "        netAmt-=amount\n",
    "    else:\n",
    "        pass\n",
    "print(netAmt)"
   ]
  },
  {
   "cell_type": "markdown",
   "id": "bcdea025",
   "metadata": {},
   "source": [
    "### Question 18\n",
    "Level 3\n",
    "\n",
    "Question:\n",
    "A website requires the users to input username and password to register. Write a program to check the validity of password input by users.\n",
    "Following are the criteria for checking the password:\n",
    "1. At least 1 letter between [a-z]\n",
    "2. At least 1 number between [0-9]\n",
    "1. At least 1 letter between [A-Z]\n",
    "3. At least 1 character from [$#@]\n",
    "4. Minimum length of transaction password: 6\n",
    "5. Maximum length of transaction password: 12\n",
    "Your program should accept a sequence of comma separated passwords and will check them according to the above criteria. Passwords that match the criteria are to be printed, each separated by a comma.\n",
    "Example\n",
    "If the following passwords are given as input to the program:\n",
    "ABd1234@1,a F1#,2w3E*,2We3345\n",
    "Then, the output of the program should be:\n",
    "ABd1234@1"
   ]
  },
  {
   "cell_type": "code",
   "execution_count": 17,
   "id": "d5512def",
   "metadata": {},
   "outputs": [
    {
     "name": "stdout",
     "output_type": "stream",
     "text": [
      "Dsk@132445, afhjdfkh322@,aohuadhi,adkjfa\n",
      "Dsk@132445\n"
     ]
    }
   ],
   "source": [
    "import re\n",
    "\n",
    "values = []\n",
    "items= [x for x in input().split(',')]\n",
    "\n",
    "for i in items:\n",
    "    if len(i)<6 or len(i)>12:\n",
    "        continue\n",
    "    else:\n",
    "        pass\n",
    "    if not re.search('[a-z]',i):\n",
    "        continue\n",
    "    elif not re.search('[0-9]',i):\n",
    "        continue\n",
    "    elif not re.search('[A-Z]',i):\n",
    "        continue\n",
    "    elif not re.search('[!@#&]',i):\n",
    "        continue\n",
    "    elif re.search('\\s',i):\n",
    "        continue\n",
    "    else:\n",
    "        pass\n",
    "    values.append(i)\n",
    "print(','.join(values))"
   ]
  },
  {
   "cell_type": "markdown",
   "id": "3618adb0",
   "metadata": {},
   "source": [
    "### Question 19\n",
    "Level 3\n",
    "\n",
    "Question:\n",
    "You are required to write a program to sort the (name, age, height) tuples by ascending order where name is string, age and height are numbers. The tuples are input by console. The sort criteria is:\n",
    "1: Sort based on name;\n",
    "2: Then sort based on age;\n",
    "3: Then sort by score.\n",
    "The priority is that name > age > score.\n",
    "If the following tuples are given as input to the program:\n",
    "Tom,19,80\n",
    "John,20,90\n",
    "Jony,17,91\n",
    "Jony,17,93\n",
    "Json,21,85\n",
    "Then, the output of the program should be:\n",
    "[('John', '20', '90'), ('Jony', '17', '91'), ('Jony', '17', '93'), ('Json', '21', '85'), ('Tom', '19', '80')]"
   ]
  },
  {
   "cell_type": "code",
   "execution_count": 31,
   "id": "97ff70d3",
   "metadata": {},
   "outputs": [
    {
     "data": {
      "text/plain": [
       "[('John', '20', '90'),\n",
       " ('Jony', '17', '91'),\n",
       " ('Jony', '17', '93'),\n",
       " ('Json', '21', '85'),\n",
       " ('Tom', '19', '80')]"
      ]
     },
     "execution_count": 31,
     "metadata": {},
     "output_type": "execute_result"
    }
   ],
   "source": [
    "tu = [('John', '20', '90'), ('Jony', '17', '91'), ('Jony', '17', '93'), ('Json', '21', '85'), ('Tom', '19', '80')]\n",
    "a = sorted(tu,key=lambda x:x[0])\n",
    "a"
   ]
  },
  {
   "cell_type": "markdown",
   "id": "13f70643",
   "metadata": {},
   "source": [
    "### Question 20\n",
    "Level 3\n",
    "\n",
    "Question:\n",
    "Define a class with a generator which can iterate the numbers, which are divisible by 7, between a given range 0 and n."
   ]
  },
  {
   "cell_type": "code",
   "execution_count": 37,
   "id": "1cfba98e",
   "metadata": {},
   "outputs": [],
   "source": [
    "def gen(num):\n",
    "    for i in num:\n",
    "        if i%7==0:\n",
    "            yield i\n"
   ]
  },
  {
   "cell_type": "markdown",
   "id": "91e1a931",
   "metadata": {},
   "source": [
    "### Question 21\n",
    "Level 3\n",
    "\n",
    "Question\n",
    "A robot moves in a plane starting from the original point (0,0). The robot can move toward UP, DOWN, LEFT and RIGHT with a given steps. The trace of robot movement is shown as the following:\n",
    "UP 5\n",
    "DOWN 3\n",
    "LEFT 3\n",
    "RIGHT 2\n",
    "¡­\n",
    "The numbers after the direction are steps. Please write a program to compute the distance from current position after a sequence of movement and original point. If the distance is a float, then just print the nearest integer.\n",
    "Example:\n",
    "If the following tuples are given as input to the program:\n",
    "UP 5\n",
    "DOWN 3\n",
    "LEFT 3\n",
    "RIGHT 2\n",
    "Then, the output of the program should be:\n",
    "2"
   ]
  },
  {
   "cell_type": "code",
   "execution_count": 41,
   "id": "f7478e74",
   "metadata": {},
   "outputs": [
    {
     "name": "stdout",
     "output_type": "stream",
     "text": [
      "UP 5\n",
      "DOWN 3\n",
      "LEFT 3\n",
      "RIGHT 2\n",
      "\n",
      "2\n"
     ]
    }
   ],
   "source": [
    "import math\n",
    "\n",
    "pos=[0,0]\n",
    "\n",
    "while True:\n",
    "    s = input()\n",
    "    if not s:\n",
    "        break\n",
    "    movement = s.split(' ')\n",
    "    direction = movement[0]\n",
    "    steps = int(movement[1])\n",
    "    if direction == 'UP':\n",
    "        pos[0]+=steps\n",
    "    elif direction == 'DOWN':\n",
    "        pos[0]-=steps\n",
    "    elif direction == 'LEFT':\n",
    "        pos[1]-=steps\n",
    "    elif direction =='RIGHT':\n",
    "        pos[1]+=steps\n",
    "    else:\n",
    "        pass\n",
    "print(int(round(math.sqrt(pos[1]**2+pos[0]**2))))"
   ]
  },
  {
   "cell_type": "markdown",
   "id": "cdeb9b51",
   "metadata": {},
   "source": [
    "### Question 22\n",
    "Level 3\n",
    "\n",
    "Question:\n",
    "Write a program to compute the frequency of the words from the input. The output should output after sorting the key alphanumerically. \n",
    "Suppose the following input is supplied to the program:\n",
    "New to Python or choosing between Python 2 and Python 3? Read Python 2 or Python 3.\n",
    "Then, the output should be:\n",
    "2:2\n",
    "3.:1\n",
    "3?:1\n",
    "New:1\n",
    "Python:5\n",
    "Read:1\n",
    "and:1\n",
    "between:1\n",
    "choosing:1\n",
    "or:2\n",
    "to:1"
   ]
  },
  {
   "cell_type": "code",
   "execution_count": 53,
   "id": "647ef656",
   "metadata": {},
   "outputs": [
    {
     "name": "stdout",
     "output_type": "stream",
     "text": [
      "['2', '3.', '3?', 'New', 'Python', 'Read', 'and', 'between', 'choosing', 'or', 'to']\n"
     ]
    },
    {
     "data": {
      "text/plain": [
       "{'New': 1,\n",
       " 'to': 1,\n",
       " 'Python': 5,\n",
       " 'or': 2,\n",
       " 'choosing': 1,\n",
       " 'between': 1,\n",
       " '2': 2,\n",
       " 'and': 1,\n",
       " '3?': 1,\n",
       " 'Read': 1,\n",
       " '3.': 1}"
      ]
     },
     "execution_count": 53,
     "metadata": {},
     "output_type": "execute_result"
    }
   ],
   "source": [
    "frq ={}\n",
    "sentence = 'New to Python or choosing between Python 2 and Python 3? Read Python 2 or Python 3.'\n",
    "\n",
    "for word in sentence.split():\n",
    "    if word in frq:\n",
    "        frq[word]+=1\n",
    "    else:\n",
    "        frq[word]=1\n",
    "print(sorted(frq))\n"
   ]
  },
  {
   "cell_type": "markdown",
   "id": "fb1541c9",
   "metadata": {},
   "source": [
    "### Question 23\n",
    "level 1\n",
    "\n",
    "Question:\n",
    "Write a method which can calculate square value of number"
   ]
  },
  {
   "cell_type": "code",
   "execution_count": 54,
   "id": "3eacf4f9",
   "metadata": {},
   "outputs": [],
   "source": [
    "def square(num):\n",
    "       '''Return the square value of the input number.\n",
    "    \n",
    "    The input number must be integer'''\n",
    "    return num**2"
   ]
  },
  {
   "cell_type": "code",
   "execution_count": 55,
   "id": "012b86bf",
   "metadata": {},
   "outputs": [
    {
     "data": {
      "text/plain": [
       "16"
      ]
     },
     "execution_count": 55,
     "metadata": {},
     "output_type": "execute_result"
    }
   ],
   "source": [
    "square(4)"
   ]
  },
  {
   "cell_type": "code",
   "execution_count": null,
   "id": "5550f28f",
   "metadata": {},
   "outputs": [],
   "source": [
    "### Question 24\n",
    "Level 1\n",
    "\n",
    "Question:\n",
    "\n",
    "Python has many built-in functions, and if you do not know how to use it, you can read document online or find some books. But Python has a built-in document function for every built-in functions.\n",
    "\n",
    "Please write a program to print some Python built-in functions documents, such as abs(), int(), raw_input()"
   ]
  },
  {
   "cell_type": "code",
   "execution_count": 60,
   "id": "dd7634c4",
   "metadata": {},
   "outputs": [
    {
     "name": "stdout",
     "output_type": "stream",
     "text": [
      "Return the absolute value of the argument.\n",
      "int([x]) -> integer\n",
      "int(x, base=10) -> integer\n",
      "\n",
      "Convert a number or string to an integer, or return 0 if no arguments\n",
      "are given.  If x is a number, return x.__int__().  For floating point\n",
      "numbers, this truncates towards zero.\n",
      "\n",
      "If x is not a number or if base is given, then x must be a string,\n",
      "bytes, or bytearray instance representing an integer literal in the\n",
      "given base.  The literal can be preceded by '+' or '-' and be surrounded\n",
      "by whitespace.  The base defaults to 10.  Valid bases are 0 and 2-36.\n",
      "Base 0 means to interpret the base from the string as an integer literal.\n",
      ">>> int('0b100', base=0)\n",
      "4\n",
      "Forward raw_input to frontends\n",
      "\n",
      "        Raises\n",
      "        ------\n",
      "        StdinNotImplementedError if active frontend doesn't support stdin.\n",
      "        \n"
     ]
    }
   ],
   "source": [
    "print(abs.__doc__)\n",
    "print(int.__doc__)\n",
    "print(input.__doc__)"
   ]
  },
  {
   "cell_type": "code",
   "execution_count": 63,
   "id": "29f62df9",
   "metadata": {},
   "outputs": [],
   "source": [
    "def square(num):\n",
    "    '''Return the square value of the input number.\n",
    "    The input number must be integer'''\n",
    "    \n",
    "    return num**2"
   ]
  },
  {
   "cell_type": "code",
   "execution_count": 65,
   "id": "5ccafe1c",
   "metadata": {},
   "outputs": [
    {
     "name": "stdout",
     "output_type": "stream",
     "text": [
      "Return the square value of the input number.\n",
      "    The input number must be integer\n"
     ]
    }
   ],
   "source": [
    "print(square.__doc__)"
   ]
  },
  {
   "cell_type": "markdown",
   "id": "e63e84f6",
   "metadata": {},
   "source": [
    "### Question 25\n",
    "Level 1\n",
    "\n",
    "Question:\n",
    "Define a class, which have a class parameter and have a same instance parameter."
   ]
  },
  {
   "cell_type": "code",
   "execution_count": 66,
   "id": "d5412736",
   "metadata": {},
   "outputs": [],
   "source": [
    "class Person:\n",
    "    name = 'Person'\n",
    "    \n",
    "    def __init__(self, name=None):\n",
    "        self.name = name"
   ]
  },
  {
   "cell_type": "code",
   "execution_count": 71,
   "id": "8946e3f2",
   "metadata": {},
   "outputs": [],
   "source": [
    "Nico = Person()\n",
    "Nico.name='Nico'"
   ]
  },
  {
   "cell_type": "markdown",
   "id": "6c5fe749",
   "metadata": {},
   "source": [
    "### Question 26:\n",
    "Define a function which can compute the sum of two numbers."
   ]
  },
  {
   "cell_type": "code",
   "execution_count": 73,
   "id": "175c36be",
   "metadata": {},
   "outputs": [],
   "source": [
    "def sumall(num1,num2):\n",
    "    sumall = num1 +num2\n",
    "    return sumall"
   ]
  },
  {
   "cell_type": "code",
   "execution_count": 74,
   "id": "a9ae0555",
   "metadata": {},
   "outputs": [
    {
     "data": {
      "text/plain": [
       "5"
      ]
     },
     "execution_count": 74,
     "metadata": {},
     "output_type": "execute_result"
    }
   ],
   "source": [
    "sumall(2,3)"
   ]
  },
  {
   "cell_type": "markdown",
   "id": "1b5069e2",
   "metadata": {},
   "source": [
    "### Question 27\n",
    "Define a function that can convert a integer into a string and print it in console."
   ]
  },
  {
   "cell_type": "code",
   "execution_count": 75,
   "id": "c2430f58",
   "metadata": {},
   "outputs": [],
   "source": [
    "def int_string(a):\n",
    "    return str(a)"
   ]
  },
  {
   "cell_type": "code",
   "execution_count": 76,
   "id": "f96dd525",
   "metadata": {},
   "outputs": [
    {
     "data": {
      "text/plain": [
       "'3424'"
      ]
     },
     "execution_count": 76,
     "metadata": {},
     "output_type": "execute_result"
    }
   ],
   "source": [
    "int_string(3424)"
   ]
  },
  {
   "cell_type": "markdown",
   "id": "ef55a286",
   "metadata": {},
   "source": [
    "### Question 28\n",
    "Define a function that can convert a integer into a string and print it in console."
   ]
  },
  {
   "cell_type": "code",
   "execution_count": 77,
   "id": "3b63826e",
   "metadata": {},
   "outputs": [
    {
     "data": {
      "text/plain": [
       "'3424'"
      ]
     },
     "execution_count": 77,
     "metadata": {},
     "output_type": "execute_result"
    }
   ],
   "source": [
    "int_string(3424)"
   ]
  },
  {
   "cell_type": "markdown",
   "id": "f090c6d2",
   "metadata": {},
   "source": [
    "### Question 29\n",
    "Define a function that can receive two integral numbers in string form and compute their sum and then print it in console."
   ]
  },
  {
   "cell_type": "code",
   "execution_count": 78,
   "id": "79f50978",
   "metadata": {},
   "outputs": [],
   "source": [
    "def sum_int(n1,n2):\n",
    "    return (int(n1)+int(n2))\n"
   ]
  },
  {
   "cell_type": "code",
   "execution_count": 80,
   "id": "849a2b05",
   "metadata": {},
   "outputs": [
    {
     "data": {
      "text/plain": [
       "5"
      ]
     },
     "execution_count": 80,
     "metadata": {},
     "output_type": "execute_result"
    }
   ],
   "source": [
    "sum_int('2','3')"
   ]
  },
  {
   "cell_type": "markdown",
   "id": "bdd15aaf",
   "metadata": {},
   "source": [
    "### Question 30\n",
    "Define a function that can accept two strings as input and concatenate them and then print it in console."
   ]
  },
  {
   "cell_type": "code",
   "execution_count": 84,
   "id": "a77af8d3",
   "metadata": {},
   "outputs": [],
   "source": [
    "def concat_str(s1,s2):\n",
    "    return s1 + s2"
   ]
  },
  {
   "cell_type": "code",
   "execution_count": 85,
   "id": "f78bed45",
   "metadata": {},
   "outputs": [
    {
     "data": {
      "text/plain": [
       "'My nameIs swapnil'"
      ]
     },
     "execution_count": 85,
     "metadata": {},
     "output_type": "execute_result"
    }
   ],
   "source": [
    "concat_str('My name','Is swapnil')"
   ]
  },
  {
   "cell_type": "markdown",
   "id": "4a64a81b",
   "metadata": {},
   "source": [
    "\n",
    "### Question 31\n",
    "Define a function that can accept two strings as input and print the string with maximum length in console. If two strings have the same length, then the function should print al l strings line by line."
   ]
  },
  {
   "cell_type": "code",
   "execution_count": 94,
   "id": "f4f009b7",
   "metadata": {},
   "outputs": [],
   "source": [
    "def len_sen(s1,s2):\n",
    "    len1 = len(s1)\n",
    "    len2 = len(s2)\n",
    "    if len1> len2:\n",
    "        return s1\n",
    "    elif len1<len2:\n",
    "        return s2\n",
    "    else:\n",
    "        return s1\n",
    "        return s2"
   ]
  },
  {
   "cell_type": "code",
   "execution_count": 98,
   "id": "1135fdcb",
   "metadata": {},
   "outputs": [
    {
     "data": {
      "text/plain": [
       "'three'"
      ]
     },
     "execution_count": 98,
     "metadata": {},
     "output_type": "execute_result"
    }
   ],
   "source": [
    "len_sen('one','three')"
   ]
  },
  {
   "cell_type": "markdown",
   "id": "833aa760",
   "metadata": {},
   "source": [
    "### Question 32\n",
    "Define a function that can accept an integer number as input and print the \"It is an even number\" if the number is even, otherwise print \"It is an odd number\"."
   ]
  },
  {
   "cell_type": "code",
   "execution_count": 103,
   "id": "6ec43d5b",
   "metadata": {},
   "outputs": [],
   "source": [
    "def return_odd_even(n):\n",
    "    if int(n)%2==0:\n",
    "        return 'Even Number'\n",
    "    else:\n",
    "        return 'Odd number'"
   ]
  },
  {
   "cell_type": "code",
   "execution_count": 105,
   "id": "e85c8cb0",
   "metadata": {},
   "outputs": [
    {
     "data": {
      "text/plain": [
       "'Odd number'"
      ]
     },
     "execution_count": 105,
     "metadata": {},
     "output_type": "execute_result"
    }
   ],
   "source": [
    "return_odd_even(3)"
   ]
  },
  {
   "cell_type": "code",
   "execution_count": 104,
   "id": "95d4d99a",
   "metadata": {},
   "outputs": [
    {
     "data": {
      "text/plain": [
       "'Even Number'"
      ]
     },
     "execution_count": 104,
     "metadata": {},
     "output_type": "execute_result"
    }
   ],
   "source": [
    "return_odd_even(2)"
   ]
  },
  {
   "cell_type": "markdown",
   "id": "b8e0735b",
   "metadata": {},
   "source": [
    "### Question 33\n",
    "Define a function which can print a dictionary where the keys are numbers between 1 and 3 (both included) and the values are square of keys."
   ]
  },
  {
   "cell_type": "code",
   "execution_count": 110,
   "id": "5dcfb8f1",
   "metadata": {},
   "outputs": [],
   "source": [
    "def sq_dic(n):\n",
    "    d = dict()\n",
    "    for i in range(1,n+1):\n",
    "        d[i]=i*i\n",
    "    return d"
   ]
  },
  {
   "cell_type": "code",
   "execution_count": 111,
   "id": "21810648",
   "metadata": {},
   "outputs": [
    {
     "data": {
      "text/plain": [
       "{1: 1, 2: 4, 3: 9}"
      ]
     },
     "execution_count": 111,
     "metadata": {},
     "output_type": "execute_result"
    }
   ],
   "source": [
    "sq_dic(3)"
   ]
  },
  {
   "cell_type": "markdown",
   "id": "f9bee680",
   "metadata": {},
   "source": [
    "### Question 34\n",
    "Define a function which can print a dictionary where the keys are numbers between 1 and 20 (both included) and the values are square of keys."
   ]
  },
  {
   "cell_type": "code",
   "execution_count": 129,
   "id": "6e31633d",
   "metadata": {},
   "outputs": [],
   "source": [
    "def square_dic_key(n):\n",
    "    d = dict()\n",
    "    for i in range(1,n+1):\n",
    "        d[i]= i*i\n",
    "    print(d)"
   ]
  },
  {
   "cell_type": "code",
   "execution_count": 130,
   "id": "4fbd7068",
   "metadata": {},
   "outputs": [
    {
     "name": "stdout",
     "output_type": "stream",
     "text": [
      "{1: 1, 2: 4, 3: 9, 4: 16, 5: 25, 6: 36, 7: 49, 8: 64, 9: 81, 10: 100, 11: 121, 12: 144, 13: 169, 14: 196, 15: 225, 16: 256, 17: 289, 18: 324, 19: 361, 20: 400}\n"
     ]
    }
   ],
   "source": [
    "square_dic_key(20)"
   ]
  },
  {
   "cell_type": "markdown",
   "id": "e7a7acbc",
   "metadata": {},
   "source": [
    "### Question 35\n",
    "Define a function which can generate a dictionary where the keys are numbers between 1 and 20 (both included) and the values are square of keys. The function should just print the values only."
   ]
  },
  {
   "cell_type": "code",
   "execution_count": 127,
   "id": "a96cc61a",
   "metadata": {},
   "outputs": [],
   "source": [
    "def square_dic_key_values(n):\n",
    "    d = dict()\n",
    "    for i in range(1,n+1):\n",
    "        d[i]= i*i\n",
    "    for (k,v) in d.items():\n",
    "        print(v)"
   ]
  },
  {
   "cell_type": "code",
   "execution_count": 128,
   "id": "08b3d855",
   "metadata": {},
   "outputs": [
    {
     "name": "stdout",
     "output_type": "stream",
     "text": [
      "1\n",
      "4\n",
      "9\n",
      "16\n",
      "25\n",
      "36\n",
      "49\n",
      "64\n",
      "81\n",
      "100\n",
      "121\n",
      "144\n",
      "169\n",
      "196\n",
      "225\n",
      "256\n",
      "289\n",
      "324\n",
      "361\n",
      "400\n"
     ]
    }
   ],
   "source": [
    "square_dic_key_values(20)"
   ]
  },
  {
   "cell_type": "markdown",
   "id": "7fce95df",
   "metadata": {},
   "source": [
    "### Question 36\n",
    "Define a function which can generate a dictionary where the keys are numbers between 1 and 20 (both included) and the values are square of keys. The function should just print the keys only."
   ]
  },
  {
   "cell_type": "code",
   "execution_count": 135,
   "id": "0c44c429",
   "metadata": {},
   "outputs": [],
   "source": [
    "def square_dic_Onlykey(n):\n",
    "    d = dict()\n",
    "    for i in range(1,n+1):\n",
    "        d[i]=i*i\n",
    "    for (k,v) in d.items():\n",
    "        print(k)\n",
    "        "
   ]
  },
  {
   "cell_type": "code",
   "execution_count": 136,
   "id": "7c90e7dc",
   "metadata": {},
   "outputs": [
    {
     "name": "stdout",
     "output_type": "stream",
     "text": [
      "1\n",
      "2\n",
      "3\n",
      "4\n",
      "5\n",
      "6\n",
      "7\n",
      "8\n",
      "9\n",
      "10\n",
      "11\n",
      "12\n",
      "13\n",
      "14\n",
      "15\n",
      "16\n",
      "17\n",
      "18\n",
      "19\n",
      "20\n"
     ]
    }
   ],
   "source": [
    "square_dic_Onlykey(20)"
   ]
  },
  {
   "cell_type": "markdown",
   "id": "c351cb41",
   "metadata": {},
   "source": [
    "### Question 37\n",
    "Define a function which can generate and print a list where the values are square of numbers between 1 and 20 (both included)."
   ]
  },
  {
   "cell_type": "code",
   "execution_count": 137,
   "id": "3f543810",
   "metadata": {},
   "outputs": [],
   "source": [
    "def sq_list(n):\n",
    "    a = [i**2 for i in range(1,n+1)]\n",
    "    print(a)"
   ]
  },
  {
   "cell_type": "code",
   "execution_count": 138,
   "id": "f4c9c3e7",
   "metadata": {},
   "outputs": [
    {
     "name": "stdout",
     "output_type": "stream",
     "text": [
      "[1, 4, 9, 16, 25, 36, 49, 64, 81, 100, 121, 144, 169, 196, 225, 256, 289, 324, 361, 400]\n"
     ]
    }
   ],
   "source": [
    "sq_list(20)"
   ]
  },
  {
   "cell_type": "markdown",
   "id": "ff601f33",
   "metadata": {},
   "source": [
    "### Question 38\n",
    "Define a function which can generate a list where the values are square of numbers between 1 and 20 (both included). Then the function needs to print the first 5 elements in the list."
   ]
  },
  {
   "cell_type": "code",
   "execution_count": 139,
   "id": "6d83f13f",
   "metadata": {},
   "outputs": [],
   "source": [
    "def sq_list_first_5(n):\n",
    "    a = [i**2 for i in range(1,n+1)]\n",
    "    print(a[:5])"
   ]
  },
  {
   "cell_type": "code",
   "execution_count": 140,
   "id": "e047a81b",
   "metadata": {},
   "outputs": [
    {
     "name": "stdout",
     "output_type": "stream",
     "text": [
      "[1, 4, 9, 16, 25]\n"
     ]
    }
   ],
   "source": [
    "sq_list_first_5(20)"
   ]
  },
  {
   "cell_type": "markdown",
   "id": "60db3d59",
   "metadata": {},
   "source": [
    "### Question 39\n",
    "Define a function which can generate a list where the values are square of numbers between 1 and 20 (both included). Then the function needs to print the last 5 elements in the list."
   ]
  },
  {
   "cell_type": "code",
   "execution_count": 143,
   "id": "8ce8a776",
   "metadata": {},
   "outputs": [],
   "source": [
    "def sq_list_last_5(n):\n",
    "    a = [i**2 for i in range(1,n+1)]\n",
    "    print(a[-5:])"
   ]
  },
  {
   "cell_type": "code",
   "execution_count": 144,
   "id": "54a02ca3",
   "metadata": {},
   "outputs": [
    {
     "name": "stdout",
     "output_type": "stream",
     "text": [
      "[256, 289, 324, 361, 400]\n"
     ]
    }
   ],
   "source": [
    "sq_list_last_5(20)"
   ]
  },
  {
   "cell_type": "markdown",
   "id": "d2261cba",
   "metadata": {},
   "source": [
    "### Question 40\n",
    "Define a function which can generate a list where the values are square of numbers between 1 and 20 (both included). Then the function needs to print all values except the first 5 elements in the list."
   ]
  },
  {
   "cell_type": "code",
   "execution_count": 146,
   "id": "39e1098b",
   "metadata": {},
   "outputs": [],
   "source": [
    "def sq_list_first_last_5_ex(n):\n",
    "    a = [i**2 for i in range(1,n+1)]\n",
    "    print(a[5:-5])"
   ]
  },
  {
   "cell_type": "code",
   "execution_count": 147,
   "id": "9cab602a",
   "metadata": {},
   "outputs": [
    {
     "name": "stdout",
     "output_type": "stream",
     "text": [
      "[36, 49, 64, 81, 100, 121, 144, 169, 196, 225]\n"
     ]
    }
   ],
   "source": [
    "sq_list_first_last_5_ex(20)"
   ]
  },
  {
   "cell_type": "markdown",
   "id": "52258359",
   "metadata": {},
   "source": [
    "### Question 41\n",
    "Define a function which can generate and print a tuple where the value are square of numbers between 1 and 20 (both included). "
   ]
  },
  {
   "cell_type": "code",
   "execution_count": 152,
   "id": "90cb2242",
   "metadata": {},
   "outputs": [],
   "source": [
    "def tup(n):\n",
    "    t = []\n",
    "    for i in range(1,n+1):\n",
    "        t.append(i)\n",
    "    print(tuple(t))"
   ]
  },
  {
   "cell_type": "code",
   "execution_count": 153,
   "id": "4534f000",
   "metadata": {},
   "outputs": [
    {
     "name": "stdout",
     "output_type": "stream",
     "text": [
      "(1, 2, 3, 4, 5, 6, 7, 8, 9, 10, 11, 12, 13, 14, 15, 16, 17, 18, 19, 20)\n"
     ]
    }
   ],
   "source": [
    "tup(20)"
   ]
  },
  {
   "cell_type": "markdown",
   "id": "fa15d03d",
   "metadata": {},
   "source": [
    "### Question 42\n",
    "With a given tuple (1,2,3,4,5,6,7,8,9,10), write a program to print the first half values in one line and the last half values in one line. "
   ]
  },
  {
   "cell_type": "code",
   "execution_count": 1,
   "id": "af369eed",
   "metadata": {},
   "outputs": [
    {
     "name": "stdout",
     "output_type": "stream",
     "text": [
      "(1, 2, 3, 4, 5)\n",
      "(6, 7, 8, 9, 10)\n"
     ]
    }
   ],
   "source": [
    "tu = (1,2,3,4,5,6,7,8,9,10)\n",
    "print(tu[:5])\n",
    "print(tu[-5:])"
   ]
  },
  {
   "cell_type": "markdown",
   "id": "4337e449",
   "metadata": {},
   "source": [
    "### Question 43\n",
    "Write a program to generate and print another tuple whose values are even numbers in the given tuple (1,2,3,4,5,6,7,8,9,10)."
   ]
  },
  {
   "cell_type": "code",
   "execution_count": 5,
   "id": "d45320b2",
   "metadata": {},
   "outputs": [
    {
     "name": "stdout",
     "output_type": "stream",
     "text": [
      "(2, 4, 6, 8, 10)\n"
     ]
    }
   ],
   "source": [
    "tu = (1,2,3,4,5,6,7,8,9,10)\n",
    "u=[]\n",
    "for i in tu:\n",
    "    if i%2==0:\n",
    "        u.append(i)\n",
    "print(tuple(u))"
   ]
  },
  {
   "cell_type": "markdown",
   "id": "52a2b3e0",
   "metadata": {},
   "source": [
    "### Question 44\n",
    "Write a program which accepts a string as input to print \"Yes\" if the string is \"yes\" or \"YES\" or \"Yes\", otherwise print \"No\". "
   ]
  },
  {
   "cell_type": "code",
   "execution_count": 7,
   "id": "9ab50cea",
   "metadata": {},
   "outputs": [],
   "source": [
    "def Y_N(st):\n",
    "    if st == 'yes' or st== 'Yes' or st=='YES':\n",
    "        print('Yes')\n",
    "    else:\n",
    "        print('No')"
   ]
  },
  {
   "cell_type": "code",
   "execution_count": 8,
   "id": "856b13ee",
   "metadata": {},
   "outputs": [
    {
     "name": "stdout",
     "output_type": "stream",
     "text": [
      "No\n"
     ]
    }
   ],
   "source": [
    "Y_N('sdkfh')"
   ]
  },
  {
   "cell_type": "code",
   "execution_count": 9,
   "id": "6f7054e0",
   "metadata": {},
   "outputs": [
    {
     "name": "stdout",
     "output_type": "stream",
     "text": [
      "Yes\n"
     ]
    }
   ],
   "source": [
    "Y_N('yes')"
   ]
  },
  {
   "cell_type": "code",
   "execution_count": 10,
   "id": "79bbe5f0",
   "metadata": {},
   "outputs": [
    {
     "name": "stdout",
     "output_type": "stream",
     "text": [
      "Enter Yes/No: yes\n",
      "Yes\n"
     ]
    }
   ],
   "source": [
    "st = input(\"Enter Yes/No: \")\n",
    "if st == 'yes' or st== 'Yes' or st=='YES':\n",
    "    print('Yes')\n",
    "else:\n",
    "     print('No')"
   ]
  },
  {
   "cell_type": "markdown",
   "id": "8df0b923",
   "metadata": {},
   "source": [
    "### Question 45\n",
    "Write a program which can filter even numbers in a list by using filter function. The list is: [1,2,3,4,5,6,7,8,9,10]."
   ]
  },
  {
   "cell_type": "code",
   "execution_count": 14,
   "id": "631d5fc6",
   "metadata": {},
   "outputs": [
    {
     "name": "stdout",
     "output_type": "stream",
     "text": [
      "[2, 4, 6, 8, 10]\n"
     ]
    }
   ],
   "source": [
    "l = [1,2,3,4,5,6,7,8,9,10]\n",
    "a = list(filter(lambda x: x%2==0, l))\n",
    "print(a)"
   ]
  },
  {
   "cell_type": "markdown",
   "id": "bbf5a034",
   "metadata": {},
   "source": [
    "### Question 46\n",
    "Write a program which can map() to make a list whose elements are square of elements in [1,2,3,4,5,6,7,8,9,10]."
   ]
  },
  {
   "cell_type": "code",
   "execution_count": 15,
   "id": "c65d5cc4",
   "metadata": {},
   "outputs": [
    {
     "name": "stdout",
     "output_type": "stream",
     "text": [
      "[1, 4, 9, 16, 25, 36, 49, 64, 81, 100]\n"
     ]
    }
   ],
   "source": [
    "l = [1,2,3,4,5,6,7,8,9,10]\n",
    "a = list(map(lambda x: x**2,l))\n",
    "print(a)"
   ]
  },
  {
   "cell_type": "markdown",
   "id": "19a4530f",
   "metadata": {},
   "source": [
    "### Question 47\n",
    "Write a program which can map() and filter() to make a list whose elements are square of even number in [1,2,3,4,5,6,7,8,9,10]."
   ]
  },
  {
   "cell_type": "code",
   "execution_count": 18,
   "id": "3c1c76e3",
   "metadata": {},
   "outputs": [
    {
     "name": "stdout",
     "output_type": "stream",
     "text": [
      "[2, 4, 6, 8, 10]\n",
      "[4, 16, 36, 64, 100]\n"
     ]
    }
   ],
   "source": [
    "l = [1,2,3,4,5,6,7,8,9,10]\n",
    "a = list(filter(lambda x: x%2==0, l))\n",
    "b = list(map(lambda x:x**2 , a))\n",
    "print(a)\n",
    "print(b)"
   ]
  },
  {
   "cell_type": "code",
   "execution_count": 21,
   "id": "fbbb4210",
   "metadata": {},
   "outputs": [
    {
     "name": "stdout",
     "output_type": "stream",
     "text": [
      "[4, 16, 36, 64, 100]\n"
     ]
    }
   ],
   "source": [
    "l = [1,2,3,4,5,6,7,8,9,10]\n",
    "b = list(map(lambda x: x**2, filter(lambda x:x%2==0, l)))\n",
    "print(b)"
   ]
  },
  {
   "cell_type": "markdown",
   "id": "53925d81",
   "metadata": {},
   "source": [
    "### Question 48\n",
    "Write a program which can filter() to make a list whose elements are even number between 1 and 20 (both included)."
   ]
  },
  {
   "cell_type": "code",
   "execution_count": 23,
   "id": "dfa4a89d",
   "metadata": {},
   "outputs": [
    {
     "name": "stdout",
     "output_type": "stream",
     "text": [
      "[2, 4, 6, 8, 10, 12, 14, 16, 18, 20]\n"
     ]
    }
   ],
   "source": [
    "l = list(range(1,21))\n",
    "b = list(filter(lambda x: x%2==0, l))\n",
    "print(b)"
   ]
  },
  {
   "cell_type": "markdown",
   "id": "ae5f5d17",
   "metadata": {},
   "source": [
    "### Question 49\n",
    "Write a program which can map() to make a list whose elements are square of numbers between 1 and 20 (both included)."
   ]
  },
  {
   "cell_type": "code",
   "execution_count": 24,
   "id": "995af7ba",
   "metadata": {},
   "outputs": [
    {
     "name": "stdout",
     "output_type": "stream",
     "text": [
      "[4, 16, 36, 64, 100, 144, 196, 256, 324, 400]\n"
     ]
    }
   ],
   "source": [
    "l = list(range(1,21))\n",
    "b = list(map(lambda x:x**2, filter(lambda x:x%2==0, l)))\n",
    "print(b)"
   ]
  },
  {
   "cell_type": "markdown",
   "id": "829743c1",
   "metadata": {},
   "source": [
    "### Question 50\n",
    "Define a class named American which has a static method called printNationality."
   ]
  },
  {
   "cell_type": "code",
   "execution_count": 27,
   "id": "caa45ee8",
   "metadata": {},
   "outputs": [],
   "source": [
    "class America():\n",
    "    @staticmethod\n",
    "    def printNationality():\n",
    "        print('America')"
   ]
  },
  {
   "cell_type": "code",
   "execution_count": 29,
   "id": "08e31eb1",
   "metadata": {},
   "outputs": [],
   "source": [
    "anAmerican = America()\n"
   ]
  },
  {
   "cell_type": "code",
   "execution_count": 34,
   "id": "05c0aab2",
   "metadata": {},
   "outputs": [
    {
     "name": "stdout",
     "output_type": "stream",
     "text": [
      "America\n"
     ]
    }
   ],
   "source": [
    "anAmerican.printNationality()\n"
   ]
  },
  {
   "cell_type": "code",
   "execution_count": 32,
   "id": "fc46d230",
   "metadata": {},
   "outputs": [
    {
     "name": "stdout",
     "output_type": "stream",
     "text": [
      "America\n"
     ]
    }
   ],
   "source": [
    "America.printNationality()\n"
   ]
  },
  {
   "cell_type": "markdown",
   "id": "d8298381",
   "metadata": {},
   "source": [
    "### Question 51\n",
    "Define a class named American and its subclass NewYorker."
   ]
  },
  {
   "cell_type": "code",
   "execution_count": 2,
   "id": "4e79f479",
   "metadata": {},
   "outputs": [],
   "source": [
    "class American():\n",
    "    pass\n",
    "class NewYorker():\n",
    "    pass"
   ]
  },
  {
   "cell_type": "code",
   "execution_count": 4,
   "id": "8b7488ba",
   "metadata": {},
   "outputs": [
    {
     "name": "stdout",
     "output_type": "stream",
     "text": [
      "<__main__.American object at 0x0000020840893550>\n"
     ]
    }
   ],
   "source": [
    "anAmerican = American()\n",
    "print(anAmerican)\n"
   ]
  },
  {
   "cell_type": "code",
   "execution_count": 5,
   "id": "d447198a",
   "metadata": {},
   "outputs": [
    {
     "name": "stdout",
     "output_type": "stream",
     "text": [
      "<__main__.NewYorker object at 0x000002083F585130>\n"
     ]
    }
   ],
   "source": [
    "aNewYorker = NewYorker()\n",
    "print(aNewYorker)\n"
   ]
  },
  {
   "cell_type": "markdown",
   "id": "4b564d4a",
   "metadata": {},
   "source": [
    "### Question 52\n",
    "Define a class named Circle which can be constructed by a radius. The Circle class has a method which can compute the area."
   ]
  },
  {
   "cell_type": "code",
   "execution_count": 6,
   "id": "00f1639d",
   "metadata": {},
   "outputs": [],
   "source": [
    "class Circle(object):\n",
    "    def __init__(self, r):\n",
    "        self.radious=r\n",
    "    def area(self):\n",
    "        return self.radious*2*3.14"
   ]
  },
  {
   "cell_type": "code",
   "execution_count": 9,
   "id": "1e06f8c9",
   "metadata": {},
   "outputs": [
    {
     "name": "stdout",
     "output_type": "stream",
     "text": [
      "12.56\n"
     ]
    }
   ],
   "source": [
    "aCircle = Circle(2)\n",
    "print(aCircle.area())"
   ]
  },
  {
   "cell_type": "markdown",
   "id": "4276538f",
   "metadata": {},
   "source": [
    "### Question 53\n",
    "Define a class named Rectangle which can be constructed by a length and width. The Rectangle class has a method which can compute the area."
   ]
  },
  {
   "cell_type": "code",
   "execution_count": 16,
   "id": "c1e66bcf",
   "metadata": {},
   "outputs": [],
   "source": [
    "class Rectangle(object):\n",
    "    def __init__(self, l,w):\n",
    "        self.width=w\n",
    "        self.length=l\n",
    "    def area(self):\n",
    "        return self.length*self.width"
   ]
  },
  {
   "cell_type": "code",
   "execution_count": 19,
   "id": "a6ec8d21",
   "metadata": {},
   "outputs": [
    {
     "name": "stdout",
     "output_type": "stream",
     "text": [
      "8\n"
     ]
    }
   ],
   "source": [
    "a = Rectangle(2,4)\n",
    "print(a.area())"
   ]
  },
  {
   "cell_type": "markdown",
   "id": "73f79479",
   "metadata": {},
   "source": [
    "### Question 54\n",
    "Define a class named Shape and its subclass Square. The Square class has an init function which takes a length as argument. Both classes have a area function which can print the area of the shape where Shape's area is 0 by default."
   ]
  },
  {
   "cell_type": "code",
   "execution_count": 21,
   "id": "6bb0d1b0",
   "metadata": {},
   "outputs": [],
   "source": [
    "class Shape(object):\n",
    "    def __init__(self):\n",
    "        pass\n",
    "    def area(self):\n",
    "        return 0\n",
    "class square(object):\n",
    "    def __init__(self, l):\n",
    "        self.length = l\n",
    "    def area(self):\n",
    "        return self.length*self.length"
   ]
  },
  {
   "cell_type": "code",
   "execution_count": 23,
   "id": "e6eae881",
   "metadata": {},
   "outputs": [
    {
     "name": "stdout",
     "output_type": "stream",
     "text": [
      "4\n"
     ]
    }
   ],
   "source": [
    "a = square(2)\n",
    "print(a.area())"
   ]
  },
  {
   "cell_type": "markdown",
   "id": "3fadf598",
   "metadata": {},
   "source": [
    "### Question 55\n",
    "Please raise a RuntimeError exception."
   ]
  },
  {
   "cell_type": "code",
   "execution_count": 24,
   "id": "7e62a2c0",
   "metadata": {},
   "outputs": [
    {
     "ename": "RuntimeError",
     "evalue": "something wrong",
     "output_type": "error",
     "traceback": [
      "\u001b[1;31m---------------------------------------------------------------------------\u001b[0m",
      "\u001b[1;31mRuntimeError\u001b[0m                              Traceback (most recent call last)",
      "Input \u001b[1;32mIn [24]\u001b[0m, in \u001b[0;36m<cell line: 1>\u001b[1;34m()\u001b[0m\n\u001b[1;32m----> 1\u001b[0m \u001b[38;5;28;01mraise\u001b[39;00m \u001b[38;5;167;01mRuntimeError\u001b[39;00m(\u001b[38;5;124m'\u001b[39m\u001b[38;5;124msomething wrong\u001b[39m\u001b[38;5;124m'\u001b[39m)\n",
      "\u001b[1;31mRuntimeError\u001b[0m: something wrong"
     ]
    }
   ],
   "source": [
    "raise RuntimeError('something wrong')"
   ]
  },
  {
   "cell_type": "markdown",
   "id": "556abb92",
   "metadata": {},
   "source": [
    "### Question 56\n",
    "Write a function to compute 5/0 and use try/except to catch the exceptions."
   ]
  },
  {
   "cell_type": "code",
   "execution_count": 27,
   "id": "86bf14fc",
   "metadata": {},
   "outputs": [
    {
     "name": "stdout",
     "output_type": "stream",
     "text": [
      "divission by zero\n",
      "in finally block for cleanup\n"
     ]
    }
   ],
   "source": [
    "def throw():\n",
    "    return 5/0\n",
    "try:\n",
    "    throw()\n",
    "except ZeroDivisionError:\n",
    "    print('divission by zero')\n",
    "except Exception:\n",
    "    print('caught an exception')\n",
    "finally:\n",
    "    print('in finally block for cleanup')"
   ]
  },
  {
   "cell_type": "markdown",
   "id": "4425836a",
   "metadata": {},
   "source": [
    "### Question 57\n",
    "Define a custom exception class which takes a string message as attribute."
   ]
  },
  {
   "cell_type": "code",
   "execution_count": 45,
   "id": "a0a0775b",
   "metadata": {},
   "outputs": [],
   "source": [
    "class MyError(Exception):\n",
    "    \"\"\"My own exception class\n",
    "\n",
    "    Attributes:\n",
    "        msg  -- explanation of the error\n",
    "    \"\"\"\n",
    "    \n",
    "    def __init__(self, msg):\n",
    "            self.message=msg\n",
    "\n",
    "           "
   ]
  },
  {
   "cell_type": "code",
   "execution_count": 47,
   "id": "89a2dbe4",
   "metadata": {},
   "outputs": [],
   "source": [
    "error = MyError('Something is wrong')"
   ]
  },
  {
   "cell_type": "markdown",
   "id": "ab1c87a4",
   "metadata": {},
   "source": [
    "### Question 58\n",
    "Assuming that we have some email addresses in the \"username@companyname.com\" format, please write program to print the user name of a given email address. Both user names and company names are composed of letters only."
   ]
  },
  {
   "cell_type": "code",
   "execution_count": 50,
   "id": "b2f4d8b7",
   "metadata": {},
   "outputs": [
    {
     "name": "stdout",
     "output_type": "stream",
     "text": [
      "swapnil@capsilon.com\n",
      "swapnil capsilon.com\n"
     ]
    }
   ],
   "source": [
    "import re\n",
    "\n",
    "input_mail = input()\n",
    "\n",
    "pattern = '(\\w+)@((\\w+\\.)+(com))'\n",
    "b= re.match(pattern,input_mail)\n",
    "print(b.group(1),b.group(2))"
   ]
  },
  {
   "cell_type": "markdown",
   "id": "ec31c8e6",
   "metadata": {},
   "source": [
    "### Question 59\n",
    "Assuming that we have some email addresses in the \"username@companyname.com\" format, please write program to print the company name of a given email address. Both user names and company names are composed of letters only"
   ]
  },
  {
   "cell_type": "code",
   "execution_count": 53,
   "id": "b46fbc58",
   "metadata": {},
   "outputs": [
    {
     "name": "stdout",
     "output_type": "stream",
     "text": [
      "swapnil@capsilon.com\n",
      "capsilon.com\n"
     ]
    }
   ],
   "source": [
    "import re \n",
    "i = input()\n",
    "pattern= '(\\w+)@((\\w+\\.)+(com))'\n",
    "b = re.match(pattern, i)\n",
    "print(b.group(2))"
   ]
  },
  {
   "cell_type": "markdown",
   "id": "cc66a00e",
   "metadata": {},
   "source": [
    "### Question 60\n",
    "Write a program which accepts a sequence of words separated by whitespace as input to print the words composed of digits only."
   ]
  },
  {
   "cell_type": "code",
   "execution_count": 5,
   "id": "f2c89e55",
   "metadata": {},
   "outputs": [
    {
     "name": "stdout",
     "output_type": "stream",
     "text": [
      "2 cats and 3 dogs.\n",
      "['2', '3']\n"
     ]
    }
   ],
   "source": [
    "import re\n",
    "inp = input()\n",
    "b = re.findall('\\d+', inp)\n",
    "print(b)"
   ]
  },
  {
   "cell_type": "markdown",
   "id": "1acde5d8",
   "metadata": {},
   "source": [
    "### Question 61\n",
    "Print a unicode string \"hello world\"."
   ]
  },
  {
   "cell_type": "code",
   "execution_count": 6,
   "id": "f74d2379",
   "metadata": {},
   "outputs": [
    {
     "name": "stdout",
     "output_type": "stream",
     "text": [
      "hello world\n"
     ]
    }
   ],
   "source": [
    "uni_code_str = u\"hello world\"\n",
    "print(uni_code_str)"
   ]
  },
  {
   "cell_type": "markdown",
   "id": "880673af",
   "metadata": {},
   "source": [
    "### Question 62\n",
    "Write a program to read an ASCII string and to convert it to a unicode string encoded by utf-8."
   ]
  },
  {
   "cell_type": "code",
   "execution_count": 11,
   "id": "9ae785a5",
   "metadata": {},
   "outputs": [],
   "source": [
    "# s = input()\n",
    "# u = unicode(s, 'utf-8')\n",
    "# print(u)"
   ]
  },
  {
   "cell_type": "markdown",
   "id": "a7c46649",
   "metadata": {},
   "source": [
    "### Question 63\n",
    "\n",
    "Write a special comment to indicate a Python source code file is in unicode."
   ]
  },
  {
   "cell_type": "code",
   "execution_count": 12,
   "id": "e7ad0db7",
   "metadata": {},
   "outputs": [],
   "source": [
    "# -*- coding: utf-8 -*-\n",
    "\n",
    "#----------------------------------------#"
   ]
  },
  {
   "cell_type": "markdown",
   "id": "e4468d3f",
   "metadata": {},
   "source": [
    "### Question 64\n",
    "\n",
    "Write a program to compute 1/2+2/3+3/4+...+n/n+1 with a given n input by console (n>0)."
   ]
  },
  {
   "cell_type": "code",
   "execution_count": 13,
   "id": "2e411692",
   "metadata": {},
   "outputs": [
    {
     "name": "stdout",
     "output_type": "stream",
     "text": [
      "5\n",
      "3.5500000000000003\n"
     ]
    }
   ],
   "source": [
    "n = int(input())\n",
    "summ = 0.0\n",
    "for i in range(1,n+1):\n",
    "    summ+= float(float(i)/(i+1))\n",
    "print(summ)"
   ]
  },
  {
   "cell_type": "markdown",
   "id": "22ae2852",
   "metadata": {},
   "source": [
    "### Question 65\n",
    "\n",
    "Write a program to compute:\n",
    "\n",
    "f(n)=f(n-1)+100 when n>0\n",
    "and f(0)=1\n",
    "by using recurrsive function"
   ]
  },
  {
   "cell_type": "code",
   "execution_count": 15,
   "id": "a961ebe8",
   "metadata": {},
   "outputs": [
    {
     "name": "stdout",
     "output_type": "stream",
     "text": [
      "5\n",
      "500\n"
     ]
    }
   ],
   "source": [
    "def f(n):\n",
    "    if n==0:\n",
    "        return 0\n",
    "    else:\n",
    "        return f(n-1)+100\n",
    "\n",
    "n=int(input())\n",
    "print(f(n))"
   ]
  },
  {
   "cell_type": "markdown",
   "id": "a72da059",
   "metadata": {},
   "source": [
    "### Question 66\n",
    "The Fibonacci Sequence is computed based on the following formula:\n",
    "\n",
    "f(n)=0 if n=0\n",
    "f(n)=1 if n=1\n",
    "f(n)=f(n-1)+f(n-2) if n>1\n",
    "\n",
    "Please write a program to compute the value of f(n) with a given n input by console.\n",
    "\n",
    "Example:\n",
    "If the following n is given as input to the program:\n",
    "\n",
    "7\n",
    "\n",
    "Then, the output of the program should be:\n",
    "\n",
    "13\n"
   ]
  },
  {
   "cell_type": "code",
   "execution_count": 16,
   "id": "eab60225",
   "metadata": {},
   "outputs": [],
   "source": [
    "def f(n):\n",
    "    if n<0:\n",
    "        return 0\n",
    "    elif n==0:\n",
    "        return 1\n",
    "    else:\n",
    "        return f(n-1)+f(n-2)"
   ]
  },
  {
   "cell_type": "code",
   "execution_count": 18,
   "id": "15e790d0",
   "metadata": {},
   "outputs": [
    {
     "data": {
      "text/plain": [
       "21"
      ]
     },
     "execution_count": 18,
     "metadata": {},
     "output_type": "execute_result"
    }
   ],
   "source": [
    "f(7)"
   ]
  },
  {
   "cell_type": "markdown",
   "id": "abc11e7e",
   "metadata": {},
   "source": [
    "### Question 67\n",
    "The Fibonacci Sequence is computed based on the following formula:\n",
    "\n",
    "f(n)=0 if n=0\n",
    "f(n)=1 if n=1\n",
    "f(n)=f(n-1)+f(n-2) if n>1\n",
    "\n",
    "Please write a program using list comprehension to print the Fibonacci Sequence in comma separated form with a given n input by console.\n",
    "\n",
    "Example:\n",
    "If the following n is given as input to the program:\n",
    "\n",
    "7\n",
    "\n",
    "Then, the output of the program should be:\n",
    "\n",
    "0,1,1,2,3,5,8,13"
   ]
  },
  {
   "cell_type": "code",
   "execution_count": 20,
   "id": "12423b29",
   "metadata": {},
   "outputs": [],
   "source": [
    "def ff(n):\n",
    "    if n<0:\n",
    "        return 0\n",
    "    elif n==0:\n",
    "        return 1\n",
    "    else:\n",
    "        return ff(n-1)+ff(n-2)"
   ]
  },
  {
   "cell_type": "code",
   "execution_count": 21,
   "id": "594a649e",
   "metadata": {},
   "outputs": [
    {
     "name": "stdout",
     "output_type": "stream",
     "text": [
      "7\n",
      "1,1,2,3,5,8,13,21\n"
     ]
    }
   ],
   "source": [
    "n = int(input())\n",
    "values=([str(ff(i)) for i in range(0,n+1)])\n",
    "print(','.join(values))"
   ]
  },
  {
   "cell_type": "markdown",
   "id": "4b7b631e",
   "metadata": {},
   "source": [
    "### Question 68\n",
    "\n",
    "Please write a program using generator to print the even numbers between 0 and n in comma separated form while n is input by console."
   ]
  },
  {
   "cell_type": "code",
   "execution_count": 22,
   "id": "bd7798a6",
   "metadata": {},
   "outputs": [],
   "source": [
    "def even_gen(n):\n",
    "    if n%2==0:\n",
    "        yield i\n",
    "    i+=1\n"
   ]
  },
  {
   "cell_type": "code",
   "execution_count": 25,
   "id": "4a03309b",
   "metadata": {},
   "outputs": [
    {
     "name": "stdout",
     "output_type": "stream",
     "text": [
      "7\n"
     ]
    },
    {
     "ename": "UnboundLocalError",
     "evalue": "local variable 'i' referenced before assignment",
     "output_type": "error",
     "traceback": [
      "\u001b[1;31m---------------------------------------------------------------------------\u001b[0m",
      "\u001b[1;31mUnboundLocalError\u001b[0m                         Traceback (most recent call last)",
      "Input \u001b[1;32mIn [25]\u001b[0m, in \u001b[0;36m<cell line: 3>\u001b[1;34m()\u001b[0m\n\u001b[0;32m      1\u001b[0m n \u001b[38;5;241m=\u001b[39m \u001b[38;5;28mint\u001b[39m(\u001b[38;5;28minput\u001b[39m())\n\u001b[0;32m      2\u001b[0m values \u001b[38;5;241m=\u001b[39m []\n\u001b[1;32m----> 3\u001b[0m \u001b[38;5;28;01mfor\u001b[39;00m i \u001b[38;5;129;01min\u001b[39;00m even_gen(n):\n\u001b[0;32m      4\u001b[0m     values\u001b[38;5;241m.\u001b[39mappend(\u001b[38;5;28mstr\u001b[39m(i))\n\u001b[0;32m      5\u001b[0m \u001b[38;5;28mprint\u001b[39m(\u001b[38;5;124m\"\u001b[39m\u001b[38;5;124m,\u001b[39m\u001b[38;5;124m\"\u001b[39m\u001b[38;5;241m.\u001b[39mjoin(values))\n",
      "Input \u001b[1;32mIn [22]\u001b[0m, in \u001b[0;36meven_gen\u001b[1;34m(n)\u001b[0m\n\u001b[0;32m      2\u001b[0m \u001b[38;5;28;01mif\u001b[39;00m n\u001b[38;5;241m%\u001b[39m\u001b[38;5;241m2\u001b[39m\u001b[38;5;241m==\u001b[39m\u001b[38;5;241m0\u001b[39m:\n\u001b[0;32m      3\u001b[0m     \u001b[38;5;28;01myield\u001b[39;00m i\n\u001b[1;32m----> 4\u001b[0m i\u001b[38;5;241m+\u001b[39m\u001b[38;5;241m=\u001b[39m\u001b[38;5;241m1\u001b[39m\n\u001b[0;32m      5\u001b[0m values \u001b[38;5;241m=\u001b[39m []\n\u001b[0;32m      6\u001b[0m \u001b[38;5;28;01mfor\u001b[39;00m j \u001b[38;5;129;01min\u001b[39;00m even_gen(n):\n",
      "\u001b[1;31mUnboundLocalError\u001b[0m: local variable 'i' referenced before assignment"
     ]
    }
   ],
   "source": [
    "n = int(input())\n",
    "values = []\n",
    "for i in even_gen(n):\n",
    "    values.append(str(i))\n",
    "print(\",\".join(values))"
   ]
  },
  {
   "cell_type": "markdown",
   "id": "71d45470",
   "metadata": {},
   "source": [
    "### Question 69\n",
    "Please write a program using generator to print the numbers which can be divisible by 5 and 7 between 0 and n in comma separated form while n is input by console."
   ]
  },
  {
   "cell_type": "code",
   "execution_count": 28,
   "id": "d29d6420",
   "metadata": {},
   "outputs": [],
   "source": [
    "def divisible_by57(n):\n",
    "    for i in range(n):\n",
    "        if i%7==0 and i%5==0:\n",
    "            yield i"
   ]
  },
  {
   "cell_type": "code",
   "execution_count": 31,
   "id": "dd25b2fa",
   "metadata": {},
   "outputs": [
    {
     "name": "stdout",
     "output_type": "stream",
     "text": [
      "876\n",
      "0,35,70,105,140,175,210,245,280,315,350,385,420,455,490,525,560,595,630,665,700,735,770,805,840,875\n"
     ]
    }
   ],
   "source": [
    "n=int(input())\n",
    "values = []\n",
    "for i in divisible_by57(n):\n",
    "    values.append(str(i))\n",
    "\n",
    "print(\",\".join(values))"
   ]
  },
  {
   "cell_type": "markdown",
   "id": "e17d28af",
   "metadata": {},
   "source": [
    "### Question 70\n",
    "Please write assert statements to verify that every number in the list [2,4,6,8] is even."
   ]
  },
  {
   "cell_type": "code",
   "execution_count": 32,
   "id": "57f669a4",
   "metadata": {},
   "outputs": [],
   "source": [
    "li = [2,4,6,8]\n",
    "for i in li:\n",
    "    assert i%2==0"
   ]
  },
  {
   "cell_type": "markdown",
   "id": "4613d773",
   "metadata": {},
   "source": [
    "### Question 71\n",
    "Please write a program which accepts basic mathematic expression from console and print the evaluation result."
   ]
  },
  {
   "cell_type": "code",
   "execution_count": 33,
   "id": "b441f7d0",
   "metadata": {},
   "outputs": [],
   "source": [
    "def summation(n1,n2):\n",
    "    return n1+n2"
   ]
  },
  {
   "cell_type": "code",
   "execution_count": 34,
   "id": "c7a66f83",
   "metadata": {},
   "outputs": [
    {
     "data": {
      "text/plain": [
       "5"
      ]
     },
     "execution_count": 34,
     "metadata": {},
     "output_type": "execute_result"
    }
   ],
   "source": [
    "summation(2,3)"
   ]
  },
  {
   "cell_type": "markdown",
   "id": "5c5ac970",
   "metadata": {},
   "source": [
    "### Question 72\n",
    "Please write a binary search function which searches an item in a sorted list. The function should return the index of element to be searched in the list."
   ]
  },
  {
   "cell_type": "code",
   "execution_count": 40,
   "id": "df289a46",
   "metadata": {},
   "outputs": [],
   "source": [
    "import math\n",
    "def search_list(li,element):\n",
    "    bottom = 0\n",
    "    top  = len(li)-1\n",
    "    index =-1\n",
    "    \n",
    "    while top>=bottom and index==-1:\n",
    "        mid = int(math.floor((top+bottom)/2.0))\n",
    "        if li[mid] == element:\n",
    "            index = mid\n",
    "        elif li[mid]> element:\n",
    "            top = mid-1\n",
    "        else:\n",
    "            bottom = mid+1\n",
    "    return index"
   ]
  },
  {
   "cell_type": "code",
   "execution_count": 41,
   "id": "894d7e19",
   "metadata": {},
   "outputs": [
    {
     "name": "stdout",
     "output_type": "stream",
     "text": [
      "4\n",
      "-1\n"
     ]
    }
   ],
   "source": [
    "li=[2,5,7,9,11,17,222]\n",
    "print(search_list(li,11))\n",
    "print(search_list(li,12))"
   ]
  },
  {
   "cell_type": "markdown",
   "id": "b1661adf",
   "metadata": {},
   "source": [
    "### Question 73\n",
    "Please write a binary search function which searches an item in a sorted list. The function should return the index of element to be searched in the list.\n"
   ]
  },
  {
   "cell_type": "code",
   "execution_count": 47,
   "id": "db1d2e55",
   "metadata": {},
   "outputs": [],
   "source": [
    "import math\n",
    "def list_index_finder(li,element):\n",
    "    bottom = 0\n",
    "    top = lrn(li)-1\n",
    "    index = -1\n",
    "    while top>=bottom and index==-1:\n",
    "        mid = int(math.floor(top+bottom)/2.0)\n",
    "        if li[mid] == element:\n",
    "            index = mid\n",
    "        elif li[mid]>=element:\n",
    "            top = mid-1\n",
    "        else:\n",
    "            bottom = mid +1\n",
    "    return index"
   ]
  },
  {
   "cell_type": "code",
   "execution_count": 48,
   "id": "90489d22",
   "metadata": {},
   "outputs": [
    {
     "name": "stdout",
     "output_type": "stream",
     "text": [
      "4\n",
      "-1\n"
     ]
    }
   ],
   "source": [
    "li=[2,5,7,9,11,17,222]\n",
    "print(search_list(li,11))\n",
    "print(search_list(li,12))"
   ]
  },
  {
   "cell_type": "markdown",
   "id": "c278a62e",
   "metadata": {},
   "source": [
    "### Question 74\n",
    "Please generate a random float where the value is between 10 and 100 using Python math module/numpy module."
   ]
  },
  {
   "cell_type": "code",
   "execution_count": 49,
   "id": "f46ff474",
   "metadata": {},
   "outputs": [],
   "source": [
    "import numpy as np"
   ]
  },
  {
   "cell_type": "code",
   "execution_count": 65,
   "id": "fa80ecce",
   "metadata": {},
   "outputs": [
    {
     "data": {
      "text/plain": [
       "52.561017085470475"
      ]
     },
     "execution_count": 65,
     "metadata": {},
     "output_type": "execute_result"
    }
   ],
   "source": [
    "a = np.random.uniform(10,100)\n",
    "a"
   ]
  },
  {
   "cell_type": "code",
   "execution_count": 64,
   "id": "968923e2",
   "metadata": {},
   "outputs": [
    {
     "name": "stdout",
     "output_type": "stream",
     "text": [
      "65.237889997882\n"
     ]
    }
   ],
   "source": [
    "import random\n",
    "print(random.random()*100)"
   ]
  },
  {
   "cell_type": "code",
   "execution_count": null,
   "id": "1d89137a",
   "metadata": {},
   "outputs": [],
   "source": [
    "### Question 75\n",
    "Please generate a random float where the value is between 5 and 95 using Python math module/numpy module."
   ]
  },
  {
   "cell_type": "code",
   "execution_count": 67,
   "id": "60701256",
   "metadata": {},
   "outputs": [
    {
     "data": {
      "text/plain": [
       "83.86246729513276"
      ]
     },
     "execution_count": 67,
     "metadata": {},
     "output_type": "execute_result"
    }
   ],
   "source": [
    "b = np.random.uniform(5,95)\n",
    "b"
   ]
  },
  {
   "cell_type": "code",
   "execution_count": 68,
   "id": "7a569c2f",
   "metadata": {},
   "outputs": [
    {
     "data": {
      "text/plain": [
       "32.11969945523613"
      ]
     },
     "execution_count": 68,
     "metadata": {},
     "output_type": "execute_result"
    }
   ],
   "source": [
    "import math\n",
    "a = random.random()*100-5\n",
    "a"
   ]
  },
  {
   "cell_type": "markdown",
   "id": "05890c43",
   "metadata": {},
   "source": [
    "### Question 76\n",
    "Please write a program to output a random even number between 0 and 10 inclusive using random module/numpy module and list comprehension."
   ]
  },
  {
   "cell_type": "code",
   "execution_count": 79,
   "id": "ed57f5a0",
   "metadata": {},
   "outputs": [
    {
     "data": {
      "text/plain": [
       "[0, 2, 4, 6]"
      ]
     },
     "execution_count": 79,
     "metadata": {},
     "output_type": "execute_result"
    }
   ],
   "source": [
    "a = [i for i in range(np.random.randint(0,10)) if i%2==0]\n",
    "a"
   ]
  },
  {
   "cell_type": "markdown",
   "id": "a5d68a8f",
   "metadata": {},
   "source": [
    "### Question 77\n",
    "Please write a program to output a random number, which is divisible by 5 and 7, between 0 and 210 inclusive using random module/ numpy module and list comprehension."
   ]
  },
  {
   "cell_type": "code",
   "execution_count": 86,
   "id": "97b019c1",
   "metadata": {},
   "outputs": [
    {
     "data": {
      "text/plain": [
       "[0, 35, 70, 105]"
      ]
     },
     "execution_count": 86,
     "metadata": {},
     "output_type": "execute_result"
    }
   ],
   "source": [
    "a = [i for i in range(np.random.randint(0,210)) if i%5==0 and i%7==0]\n",
    "a"
   ]
  },
  {
   "cell_type": "markdown",
   "id": "9a69ce22",
   "metadata": {},
   "source": [
    "### Question 78\n",
    "Please write a program to generate a list with 5 random numbers between 100 and 200 inclusive."
   ]
  },
  {
   "cell_type": "code",
   "execution_count": 87,
   "id": "d572005a",
   "metadata": {},
   "outputs": [
    {
     "data": {
      "text/plain": [
       "array([116, 136, 148, 113, 142])"
      ]
     },
     "execution_count": 87,
     "metadata": {},
     "output_type": "execute_result"
    }
   ],
   "source": [
    "a = np.random.randint(100,201,(5))\n",
    "a"
   ]
  },
  {
   "cell_type": "markdown",
   "id": "b1d3f57f",
   "metadata": {},
   "source": [
    "### Question 79\n",
    "Please write a program to randomly generate a list with 5 even numbers between 100 and 200 inclusive."
   ]
  },
  {
   "cell_type": "code",
   "execution_count": 103,
   "id": "7cab6af5",
   "metadata": {},
   "outputs": [
    {
     "data": {
      "text/plain": [
       "[154, 146, 176, 128, 140]"
      ]
     },
     "execution_count": 103,
     "metadata": {},
     "output_type": "execute_result"
    }
   ],
   "source": [
    "a = [i for i in (np.random.randint(100,200,(5))) if i%2==0]\n",
    "a"
   ]
  },
  {
   "cell_type": "code",
   "execution_count": 116,
   "id": "140e03b4",
   "metadata": {},
   "outputs": [
    {
     "name": "stdout",
     "output_type": "stream",
     "text": [
      "[182, 120, 106]\n"
     ]
    }
   ],
   "source": [
    "s=[]\n",
    "aa = np.random.randint(100,200,(6))\n",
    "b = [s.append(i) for i in aa if i%2==0]\n",
    "print(s)"
   ]
  },
  {
   "cell_type": "code",
   "execution_count": 132,
   "id": "62c6a2e1",
   "metadata": {},
   "outputs": [
    {
     "name": "stdout",
     "output_type": "stream",
     "text": [
      "[198, 106, 122, 180, 166]\n"
     ]
    }
   ],
   "source": [
    "print(random.sample([i for i in range(100,201) if i%2==0], 5))"
   ]
  },
  {
   "cell_type": "markdown",
   "id": "0c66a6b8",
   "metadata": {},
   "source": [
    "### Question 80\n",
    "Please write a program to randomly generate a list with 5 numbers, which are divisible by 5 and 7 , between 1 and 1000 inclusive."
   ]
  },
  {
   "cell_type": "code",
   "execution_count": 129,
   "id": "69972d1a",
   "metadata": {},
   "outputs": [
    {
     "name": "stdout",
     "output_type": "stream",
     "text": [
      "[245, 35, 280, 700, 420]\n"
     ]
    }
   ],
   "source": [
    "import random\n",
    "print(random.sample([i for i in range(1,1001) if i%5==0 and i%7==0], 5))"
   ]
  },
  {
   "cell_type": "markdown",
   "id": "c926dfc7",
   "metadata": {},
   "source": [
    "\n",
    "### Question 81\n",
    "Please write a program to randomly print a integer number between 7 and 15 inclusive."
   ]
  },
  {
   "cell_type": "code",
   "execution_count": 137,
   "id": "7d272198",
   "metadata": {},
   "outputs": [
    {
     "name": "stdout",
     "output_type": "stream",
     "text": [
      "12\n"
     ]
    }
   ],
   "source": [
    "print(np.random.randint(7,16))"
   ]
  },
  {
   "cell_type": "markdown",
   "id": "05bc0655",
   "metadata": {},
   "source": [
    "### Question 82\n",
    "Please write a program to compress and decompress the string \"hello world!hello world!hello world!hello world!\"."
   ]
  },
  {
   "cell_type": "code",
   "execution_count": 138,
   "id": "34fef6dc",
   "metadata": {},
   "outputs": [
    {
     "name": "stdout",
     "output_type": "stream",
     "text": [
      "b'x\\x9c\\xcbH\\xcd\\xc9\\xc9W(\\xcf/\\xcaIQ\\xcc \\x82\\r\\x00\\xbd[\\x11\\xf5'\n",
      "b'hello world!hello world!hello world!hello world!'\n"
     ]
    }
   ],
   "source": [
    "import zlib\n",
    "s = b'hello world!hello world!hello world!hello world!'\n",
    "t = zlib.compress(s)\n",
    "print(t)\n",
    "print(zlib.decompress(t))"
   ]
  },
  {
   "cell_type": "markdown",
   "id": "edd0efb9",
   "metadata": {},
   "source": [
    "### Question 83\n",
    "Please write a program to print the running time of execution of \"1+1\" for 100 times."
   ]
  },
  {
   "cell_type": "code",
   "execution_count": 141,
   "id": "c91bcda2",
   "metadata": {},
   "outputs": [
    {
     "name": "stdout",
     "output_type": "stream",
     "text": [
      "1\n",
      "2\n",
      "3\n",
      "4\n",
      "5\n",
      "6\n",
      "7\n",
      "8\n",
      "9\n",
      "10\n",
      "11\n",
      "12\n",
      "13\n",
      "14\n",
      "15\n",
      "16\n",
      "17\n",
      "18\n",
      "19\n",
      "20\n",
      "21\n",
      "22\n",
      "23\n",
      "24\n",
      "25\n",
      "26\n",
      "27\n",
      "28\n",
      "29\n",
      "30\n",
      "31\n",
      "32\n",
      "33\n",
      "34\n",
      "35\n",
      "36\n",
      "37\n",
      "38\n",
      "39\n",
      "40\n",
      "41\n",
      "42\n",
      "43\n",
      "44\n",
      "45\n",
      "46\n",
      "47\n",
      "48\n",
      "49\n",
      "50\n",
      "51\n",
      "52\n",
      "53\n",
      "54\n",
      "55\n",
      "56\n",
      "57\n",
      "58\n",
      "59\n",
      "60\n",
      "61\n",
      "62\n",
      "63\n",
      "64\n",
      "65\n",
      "66\n",
      "67\n",
      "68\n",
      "69\n",
      "70\n",
      "71\n",
      "72\n",
      "73\n",
      "74\n",
      "75\n",
      "76\n",
      "77\n",
      "78\n",
      "79\n",
      "80\n",
      "81\n",
      "82\n",
      "83\n",
      "84\n",
      "85\n",
      "86\n",
      "87\n",
      "88\n",
      "89\n",
      "90\n",
      "91\n",
      "92\n",
      "93\n",
      "94\n",
      "95\n",
      "96\n",
      "97\n",
      "98\n",
      "99\n",
      "100\n"
     ]
    },
    {
     "data": {
      "text/plain": [
       "0.010994911193847656"
      ]
     },
     "execution_count": 141,
     "metadata": {},
     "output_type": "execute_result"
    }
   ],
   "source": [
    "import time \n",
    "starttime = time.time()\n",
    "for i in range(1,101):\n",
    "    print(i)\n",
    "endtime = time.time()\n",
    "totaltime = endtime - starttime \n",
    "totaltime"
   ]
  },
  {
   "cell_type": "code",
   "execution_count": 142,
   "id": "741ec27f",
   "metadata": {},
   "outputs": [
    {
     "name": "stdout",
     "output_type": "stream",
     "text": [
      "2.6056423999998515\n"
     ]
    }
   ],
   "source": [
    "from timeit import Timer\n",
    "t = Timer(\"for i in range(100):1+1\")\n",
    "print(t.timeit())"
   ]
  },
  {
   "cell_type": "code",
   "execution_count": 143,
   "id": "118cbe92",
   "metadata": {},
   "outputs": [
    {
     "data": {
      "text/plain": [
       "\"Class for timing execution speed of small code snippets.\\n\\n    The constructor takes a statement to be timed, an additional\\n    statement used for setup, and a timer function.  Both statements\\n    default to 'pass'; the timer function is platform-dependent (see\\n    module doc string).  If 'globals' is specified, the code will be\\n    executed within that namespace (as opposed to inside timeit's\\n    namespace).\\n\\n    To measure the execution time of the first statement, use the\\n    timeit() method.  The repeat() method is a convenience to call\\n    timeit() multiple times and return a list of results.\\n\\n    The statements may contain newlines, as long as they don't contain\\n    multi-line string literals.\\n    \""
      ]
     },
     "execution_count": 143,
     "metadata": {},
     "output_type": "execute_result"
    }
   ],
   "source": [
    "Timer.__doc__"
   ]
  },
  {
   "cell_type": "markdown",
   "id": "57442249",
   "metadata": {},
   "source": [
    "### Question 84\n",
    "Please write a program to shuffle and print the list [3,6,7,8]."
   ]
  },
  {
   "cell_type": "code",
   "execution_count": 149,
   "id": "bfcc9f73",
   "metadata": {},
   "outputs": [
    {
     "data": {
      "text/plain": [
       "[7, 3, 6, 8]"
      ]
     },
     "execution_count": 149,
     "metadata": {},
     "output_type": "execute_result"
    }
   ],
   "source": [
    "from random import shuffle\n",
    "li = [3,6,7,8]\n",
    "shuffle(li)\n",
    "li"
   ]
  },
  {
   "cell_type": "markdown",
   "id": "3cb60933",
   "metadata": {},
   "source": [
    "\n",
    "### Question 85\n",
    "Please write a program to shuffle and print the list [3,6,7,8]."
   ]
  },
  {
   "cell_type": "code",
   "execution_count": 150,
   "id": "f7f4884d",
   "metadata": {},
   "outputs": [
    {
     "data": {
      "text/plain": [
       "[6, 7, 8, 3]"
      ]
     },
     "execution_count": 150,
     "metadata": {},
     "output_type": "execute_result"
    }
   ],
   "source": [
    "from random import shuffle\n",
    "li = [3,6,7,8]\n",
    "shuffle(li)\n",
    "li"
   ]
  },
  {
   "cell_type": "markdown",
   "id": "2467678f",
   "metadata": {},
   "source": [
    "### Question 86\n",
    "Please write a program to generate all sentences where subject is in [\"I\", \"You\"] and verb is in [\"Play\", \"Love\"] and the object is in [\"Hockey\",\"Football\"]."
   ]
  },
  {
   "cell_type": "code",
   "execution_count": 151,
   "id": "4089105e",
   "metadata": {},
   "outputs": [
    {
     "name": "stdout",
     "output_type": "stream",
     "text": [
      "I Play Hockey.\n",
      "I Play Football.\n",
      "I Love Hockey.\n",
      "I Love Football.\n",
      "You Play Hockey.\n",
      "You Play Football.\n",
      "You Love Hockey.\n",
      "You Love Football.\n"
     ]
    }
   ],
   "source": [
    "subjects=[\"I\", \"You\"]\n",
    "verbs=[\"Play\", \"Love\"]\n",
    "objects=[\"Hockey\",\"Football\"]\n",
    "for i in range(len(subjects)):\n",
    "    for j in range(len(verbs)):\n",
    "        for k in range(len(objects)):\n",
    "            sentence = \"%s %s %s.\" % (subjects[i], verbs[j], objects[k])\n",
    "            print(sentence)"
   ]
  },
  {
   "cell_type": "markdown",
   "id": "f14ff75a",
   "metadata": {},
   "source": [
    "### Question 87\n",
    "Please write a program to print the list after removing delete even numbers in [5,6,77,45,22,12,24]."
   ]
  },
  {
   "cell_type": "code",
   "execution_count": 163,
   "id": "1ca17edb",
   "metadata": {},
   "outputs": [
    {
     "name": "stdout",
     "output_type": "stream",
     "text": [
      "[5, 77, 45, 12]\n"
     ]
    }
   ],
   "source": [
    "l = [5,6,77,45,22,12,24]\n",
    "for i in (l):\n",
    "    if i%2==0:\n",
    "        l.remove(i)\n",
    "print(l)"
   ]
  },
  {
   "cell_type": "code",
   "execution_count": 156,
   "id": "ae1acd6b",
   "metadata": {},
   "outputs": [
    {
     "data": {
      "text/plain": [
       "[5, 77, 45]"
      ]
     },
     "execution_count": 156,
     "metadata": {},
     "output_type": "execute_result"
    }
   ],
   "source": [
    "a = [i for i in l if i%2!=0]\n",
    "a"
   ]
  },
  {
   "cell_type": "markdown",
   "id": "e8f7c4e9",
   "metadata": {},
   "source": [
    "\n",
    "### Question 88\n",
    "By using list comprehension, please write a program to print the list after removing delete numbers which are divisible by 5 and 7 in [12,24,35,70,88,120,155]."
   ]
  },
  {
   "cell_type": "code",
   "execution_count": 164,
   "id": "1d8fbe82",
   "metadata": {},
   "outputs": [
    {
     "data": {
      "text/plain": [
       "[12, 24, 88]"
      ]
     },
     "execution_count": 164,
     "metadata": {},
     "output_type": "execute_result"
    }
   ],
   "source": [
    "l = [12,24,35,70,88,120,155]\n",
    "a = [i for i in l if i%5!=0 and i%7!=0]\n",
    "a"
   ]
  },
  {
   "cell_type": "markdown",
   "id": "ed7a4153",
   "metadata": {},
   "source": [
    "# Question 89\n",
    "By using list comprehension, please write a program to print the list after removing the 0th, 2nd, 4th,6th numbers in [12,24,35,70,88,120,155]."
   ]
  },
  {
   "cell_type": "code",
   "execution_count": 166,
   "id": "3a18819d",
   "metadata": {},
   "outputs": [
    {
     "data": {
      "text/plain": [
       "[24, 70, 120]"
      ]
     },
     "execution_count": 166,
     "metadata": {},
     "output_type": "execute_result"
    }
   ],
   "source": [
    "a = [n for i, n in enumerate(l) if i%2!=0]\n",
    "a"
   ]
  },
  {
   "cell_type": "markdown",
   "id": "5bfb753d",
   "metadata": {},
   "source": [
    "### Question 90\n",
    "By using list comprehension, please write a program generate a 3*5*8 3D array whose each element is 0."
   ]
  },
  {
   "cell_type": "code",
   "execution_count": 167,
   "id": "68b5f7f3",
   "metadata": {},
   "outputs": [
    {
     "data": {
      "text/plain": [
       "[[[0, 0, 0, 0, 0, 0, 0, 0],\n",
       "  [0, 0, 0, 0, 0, 0, 0, 0],\n",
       "  [0, 0, 0, 0, 0, 0, 0, 0],\n",
       "  [0, 0, 0, 0, 0, 0, 0, 0],\n",
       "  [0, 0, 0, 0, 0, 0, 0, 0]],\n",
       " [[0, 0, 0, 0, 0, 0, 0, 0],\n",
       "  [0, 0, 0, 0, 0, 0, 0, 0],\n",
       "  [0, 0, 0, 0, 0, 0, 0, 0],\n",
       "  [0, 0, 0, 0, 0, 0, 0, 0],\n",
       "  [0, 0, 0, 0, 0, 0, 0, 0]],\n",
       " [[0, 0, 0, 0, 0, 0, 0, 0],\n",
       "  [0, 0, 0, 0, 0, 0, 0, 0],\n",
       "  [0, 0, 0, 0, 0, 0, 0, 0],\n",
       "  [0, 0, 0, 0, 0, 0, 0, 0],\n",
       "  [0, 0, 0, 0, 0, 0, 0, 0]]]"
      ]
     },
     "execution_count": 167,
     "metadata": {},
     "output_type": "execute_result"
    }
   ],
   "source": [
    "array = [[ [0 for col in range(8)] for col in range(5)] for row in range(3)]\n",
    "array"
   ]
  },
  {
   "cell_type": "markdown",
   "id": "cbc1d379",
   "metadata": {},
   "source": [
    "### Question 91\n",
    "By using list comprehension, please write a program to print the list after removing the 0th,4th,5th numbers in [12,24,35,70,88,120,155]."
   ]
  },
  {
   "cell_type": "code",
   "execution_count": 168,
   "id": "0b6949e5",
   "metadata": {},
   "outputs": [
    {
     "data": {
      "text/plain": [
       "[12, 24, 35, 70, 88, 120, 155]"
      ]
     },
     "execution_count": 168,
     "metadata": {},
     "output_type": "execute_result"
    }
   ],
   "source": [
    "l"
   ]
  },
  {
   "cell_type": "code",
   "execution_count": 169,
   "id": "471b4431",
   "metadata": {},
   "outputs": [
    {
     "data": {
      "text/plain": [
       "[24, 35, 70, 155]"
      ]
     },
     "execution_count": 169,
     "metadata": {},
     "output_type": "execute_result"
    }
   ],
   "source": [
    "a = [n for (i,n) in enumerate(l) if i not in(0,4,5)]\n",
    "a"
   ]
  },
  {
   "cell_type": "markdown",
   "id": "507f70da",
   "metadata": {},
   "source": [
    "### Question 92\n",
    "By using list comprehension, please write a program to print the list after removing the value 24 in [12,24,35,24,88,120,155]."
   ]
  },
  {
   "cell_type": "code",
   "execution_count": 170,
   "id": "c14c264e",
   "metadata": {},
   "outputs": [
    {
     "data": {
      "text/plain": [
       "[12, 24, 35, 70, 88, 120, 155]"
      ]
     },
     "execution_count": 170,
     "metadata": {},
     "output_type": "execute_result"
    }
   ],
   "source": [
    "l"
   ]
  },
  {
   "cell_type": "code",
   "execution_count": 172,
   "id": "ac2248b8",
   "metadata": {},
   "outputs": [],
   "source": [
    "l.remove(24)"
   ]
  },
  {
   "cell_type": "code",
   "execution_count": 173,
   "id": "f625f501",
   "metadata": {},
   "outputs": [
    {
     "data": {
      "text/plain": [
       "[12, 35, 70, 88, 120, 155]"
      ]
     },
     "execution_count": 173,
     "metadata": {},
     "output_type": "execute_result"
    }
   ],
   "source": [
    "l"
   ]
  },
  {
   "cell_type": "markdown",
   "id": "99f72240",
   "metadata": {},
   "source": [
    "### Question 93\n",
    "With two given lists [1,3,6,78,35,55] and [12,24,35,24,88,120,155], write a program to make a list whose elements are intersection of the above given lists."
   ]
  },
  {
   "cell_type": "code",
   "execution_count": 179,
   "id": "9cbb1375",
   "metadata": {},
   "outputs": [
    {
     "name": "stdout",
     "output_type": "stream",
     "text": [
      "[35]\n"
     ]
    }
   ],
   "source": [
    "l1 = [1,3,6,78,35,55]\n",
    "l2 = [12,24,35,24,88,120,155]\n",
    "a = set(li)\n",
    "b = set(l2)\n",
    "a &= b\n",
    "print(list(a))"
   ]
  },
  {
   "cell_type": "code",
   "execution_count": 177,
   "id": "ed1a528d",
   "metadata": {},
   "outputs": [
    {
     "name": "stdout",
     "output_type": "stream",
     "text": [
      "[35]\n"
     ]
    }
   ],
   "source": [
    "set1=set([1,3,6,78,35,55])\n",
    "set2=set([12,24,35,24,88,120,155])\n",
    "set1 &= set2\n",
    "li=list(set1)\n",
    "print(li)"
   ]
  },
  {
   "cell_type": "code",
   "execution_count": 180,
   "id": "6ce11885",
   "metadata": {},
   "outputs": [
    {
     "name": "stdout",
     "output_type": "stream",
     "text": [
      "{5, 6}\n"
     ]
    }
   ],
   "source": [
    "mylist = [5, 3, 5, 2, 1, 6, 6, 4] # the original input list with repeated elements.\n",
    "dup = {x for x in mylist if mylist.count(x) > 1}\n",
    "print(dup)"
   ]
  },
  {
   "cell_type": "markdown",
   "id": "965c29aa",
   "metadata": {},
   "source": [
    "### Question 94\n",
    "With a given list [12,24,35,24,88,120,155,88,120,155], write a program to print this list after removing all duplicate values with original order reserved."
   ]
  },
  {
   "cell_type": "code",
   "execution_count": 187,
   "id": "0567d3c5",
   "metadata": {},
   "outputs": [
    {
     "name": "stdout",
     "output_type": "stream",
     "text": [
      "[12, 24, 35, 88, 120, 155]\n"
     ]
    }
   ],
   "source": [
    "li = [12,24,35,24,88,120,155,88,120,155]\n",
    "new_li=[]\n",
    "see = set()\n",
    "for i in li:\n",
    "    if i not in see:\n",
    "        see.add(i)\n",
    "        new_li.append(i)\n",
    "print(new_li)"
   ]
  },
  {
   "cell_type": "markdown",
   "id": "58fd5389",
   "metadata": {},
   "source": [
    "\n",
    "### Question 95\n",
    "Define a class Person and its two child classes: Male and Female. All classes have a method \"getGender\" which can print \"Male\" for Male class and \"Female\" for Female class."
   ]
  },
  {
   "cell_type": "code",
   "execution_count": 194,
   "id": "b3556912",
   "metadata": {},
   "outputs": [],
   "source": [
    "class Person(object):\n",
    "    def getGender(self):\n",
    "        return 'Unknown'\n",
    "class Male(object):\n",
    "    def getGender(self):\n",
    "        return 'Male'\n",
    "class Female(object):\n",
    "    def getGender(self):\n",
    "        return 'Female'"
   ]
  },
  {
   "cell_type": "code",
   "execution_count": 195,
   "id": "9d169267",
   "metadata": {},
   "outputs": [
    {
     "name": "stdout",
     "output_type": "stream",
     "text": [
      "Male\n",
      "Female\n"
     ]
    }
   ],
   "source": [
    "aMale = Male()\n",
    "aFemale= Female()\n",
    "print(aMale.getGender())\n",
    "print(aFemale.getGender())"
   ]
  },
  {
   "cell_type": "markdown",
   "id": "e0e6d7ac",
   "metadata": {},
   "source": [
    "### Question 96\n",
    "Please write a program which count and print the numbers of each character in a string input by console."
   ]
  },
  {
   "cell_type": "code",
   "execution_count": 196,
   "id": "23d57763",
   "metadata": {},
   "outputs": [
    {
     "name": "stdout",
     "output_type": "stream",
     "text": [
      "swapnil\n",
      "7\n"
     ]
    }
   ],
   "source": [
    "inp = input()\n",
    "\n",
    "count = 0\n",
    "for i in inp:\n",
    "    count+=1\n",
    "print(count)"
   ]
  },
  {
   "cell_type": "markdown",
   "id": "7ad05a4a",
   "metadata": {},
   "source": [
    "### Question 97\n",
    "Please write a program which frequency and print the numbers of each character in a string input by console."
   ]
  },
  {
   "cell_type": "code",
   "execution_count": 199,
   "id": "27790ad9",
   "metadata": {},
   "outputs": [
    {
     "name": "stdout",
     "output_type": "stream",
     "text": [
      "swapnil yande data scientist\n",
      "{'s': 3, 'w': 1, 'a': 4, 'p': 1, 'n': 3, 'i': 3, 'l': 1, ' ': 3, 'y': 1, 'd': 2, 'e': 2, 't': 3, 'c': 1}\n"
     ]
    }
   ],
   "source": [
    "inp = input()\n",
    "\n",
    "frq = {}\n",
    "\n",
    "for i in inp:\n",
    "    if i in frq:\n",
    "        frq[i]+=1\n",
    "    else:\n",
    "        frq[i]=1\n",
    "print(frq)"
   ]
  },
  {
   "cell_type": "markdown",
   "id": "37c11c95",
   "metadata": {},
   "source": [
    "### Question 98\n",
    "Please write a program which accepts a string from console and print it in reverse order."
   ]
  },
  {
   "cell_type": "code",
   "execution_count": 200,
   "id": "1072d8ce",
   "metadata": {},
   "outputs": [
    {
     "name": "stdout",
     "output_type": "stream",
     "text": [
      "swapnil\n",
      "linpaws\n"
     ]
    }
   ],
   "source": [
    "inp = input()\n",
    "\n",
    "print(inp[::-1])"
   ]
  },
  {
   "cell_type": "code",
   "execution_count": 202,
   "id": "979600d6",
   "metadata": {},
   "outputs": [
    {
     "name": "stdout",
     "output_type": "stream",
     "text": [
      "linpaws \n"
     ]
    }
   ],
   "source": [
    "a = 'swapnil'\n",
    "\n",
    "ab = ' '\n",
    "for i in a:\n",
    "    ab = i+ab\n",
    "print(ab)"
   ]
  },
  {
   "cell_type": "markdown",
   "id": "fc12c3bd",
   "metadata": {},
   "source": [
    "### Question 99\n",
    "Please write a program which accepts a string from console and print the characters that have even indexes."
   ]
  },
  {
   "cell_type": "code",
   "execution_count": 203,
   "id": "f0cf7fe6",
   "metadata": {},
   "outputs": [
    {
     "name": "stdout",
     "output_type": "stream",
     "text": [
      "swapnil\n",
      "s\n",
      "a\n",
      "n\n",
      "l\n"
     ]
    }
   ],
   "source": [
    "inp = input()\n",
    "\n",
    "for i,n in enumerate(inp):\n",
    "    if i%2==0:\n",
    "        print(n)"
   ]
  },
  {
   "cell_type": "code",
   "execution_count": 204,
   "id": "1bf2efce",
   "metadata": {},
   "outputs": [
    {
     "name": "stdout",
     "output_type": "stream",
     "text": [
      "swapnil\n",
      "sanl\n"
     ]
    }
   ],
   "source": [
    "s = input()\n",
    "\n",
    "s = s[::2]\n",
    "print(s)"
   ]
  },
  {
   "cell_type": "markdown",
   "id": "d29026a2",
   "metadata": {},
   "source": [
    "### Question 100\n",
    "Please write a program which prints all permutations of [1,2,3]"
   ]
  },
  {
   "cell_type": "code",
   "execution_count": 205,
   "id": "b60ac625",
   "metadata": {},
   "outputs": [
    {
     "name": "stdout",
     "output_type": "stream",
     "text": [
      "[(1, 2, 3), (1, 3, 2), (2, 1, 3), (2, 3, 1), (3, 1, 2), (3, 2, 1)]\n"
     ]
    }
   ],
   "source": [
    "import itertools\n",
    "li =[1,2,3]\n",
    "print(list(itertools.permutations(li)))"
   ]
  },
  {
   "cell_type": "markdown",
   "id": "ca361d4e",
   "metadata": {},
   "source": [
    "### Question 101\n",
    "Write a program to solve a classic ancient Chinese puzzle: \n",
    "We count 35 heads and 94 legs among the chickens and rabbits in a farm. How many rabbits and how many chickens do we have?"
   ]
  },
  {
   "cell_type": "code",
   "execution_count": 206,
   "id": "317ae488",
   "metadata": {},
   "outputs": [],
   "source": [
    "def solve(numheads,numlegs):\n",
    "    ns='No solutions!'\n",
    "    for i in range(numheads+1):\n",
    "        j=numheads-i\n",
    "        if 2*i+4*j==numlegs:\n",
    "            return i,j\n",
    "    return ns,ns"
   ]
  },
  {
   "cell_type": "code",
   "execution_count": 207,
   "id": "6341773e",
   "metadata": {},
   "outputs": [
    {
     "name": "stdout",
     "output_type": "stream",
     "text": [
      "(23, 12)\n"
     ]
    }
   ],
   "source": [
    "numheads=35\n",
    "numlegs=94\n",
    "solutions=solve(numheads,numlegs)\n",
    "print(solutions)"
   ]
  },
  {
   "cell_type": "code",
   "execution_count": null,
   "id": "e2eb4775",
   "metadata": {},
   "outputs": [],
   "source": []
  }
 ],
 "metadata": {
  "kernelspec": {
   "display_name": "Python 3 (ipykernel)",
   "language": "python",
   "name": "python3"
  },
  "language_info": {
   "codemirror_mode": {
    "name": "ipython",
    "version": 3
   },
   "file_extension": ".py",
   "mimetype": "text/x-python",
   "name": "python",
   "nbconvert_exporter": "python",
   "pygments_lexer": "ipython3",
   "version": "3.9.12"
  }
 },
 "nbformat": 4,
 "nbformat_minor": 5
}
